{
 "cells": [
  {
   "cell_type": "markdown",
   "id": "1cf4f7a4",
   "metadata": {},
   "source": [
    "# Project 3: Time Series Analysis and Forecasting"
   ]
  },
  {
   "cell_type": "markdown",
   "id": "5b20a0e2",
   "metadata": {},
   "source": [
    "For this project, time series analysis and forecasting will be used to predict the future price of Microsoft stock.\n",
    "\n",
    "The original file for this dataset can be found at this URL: https://www.kaggle.com/datasets/vijayvvenkitesh/microsoft-stock-time-series-analysis"
   ]
  },
  {
   "cell_type": "markdown",
   "id": "9c8939ee",
   "metadata": {},
   "source": [
    "### Importing modules"
   ]
  },
  {
   "cell_type": "code",
   "execution_count": 1,
   "id": "b3ed3da5",
   "metadata": {},
   "outputs": [],
   "source": [
    "import numpy as np\n",
    "import pandas as pd\n",
    "import datetime\n",
    "import matplotlib.pyplot as plt\n",
    "import seaborn as sns\n",
    "import warnings\n",
    "\n",
    "from sklearn.metrics import mean_squared_error\n",
    "from statsmodels.tsa.statespace.sarimax import SARIMAX\n",
    "from statsmodels.tsa.arima.model import ARIMA\n",
    "from statsmodels.tsa.seasonal import seasonal_decompose\n",
    "from statsmodels.graphics.tsaplots import plot_acf"
   ]
  },
  {
   "cell_type": "markdown",
   "id": "fe046bfa",
   "metadata": {},
   "source": [
    "### Importing the dataset"
   ]
  },
  {
   "cell_type": "code",
   "execution_count": 2,
   "id": "f8d2b14d",
   "metadata": {},
   "outputs": [
    {
     "data": {
      "text/plain": [
       "(1511, 6)"
      ]
     },
     "execution_count": 2,
     "metadata": {},
     "output_type": "execute_result"
    }
   ],
   "source": [
    "df = pd.read_csv('C:/Users/19145/Documents/CS675_Jupyter_Notebooks/project_files/Microsoft_Stock.csv')\n",
    "df.shape"
   ]
  },
  {
   "cell_type": "code",
   "execution_count": 3,
   "id": "d5149c42",
   "metadata": {},
   "outputs": [
    {
     "data": {
      "text/html": [
       "<div>\n",
       "<style scoped>\n",
       "    .dataframe tbody tr th:only-of-type {\n",
       "        vertical-align: middle;\n",
       "    }\n",
       "\n",
       "    .dataframe tbody tr th {\n",
       "        vertical-align: top;\n",
       "    }\n",
       "\n",
       "    .dataframe thead th {\n",
       "        text-align: right;\n",
       "    }\n",
       "</style>\n",
       "<table border=\"1\" class=\"dataframe\">\n",
       "  <thead>\n",
       "    <tr style=\"text-align: right;\">\n",
       "      <th></th>\n",
       "      <th>Date</th>\n",
       "      <th>Open</th>\n",
       "      <th>High</th>\n",
       "      <th>Low</th>\n",
       "      <th>Close</th>\n",
       "      <th>Volume</th>\n",
       "    </tr>\n",
       "  </thead>\n",
       "  <tbody>\n",
       "    <tr>\n",
       "      <th>0</th>\n",
       "      <td>4/1/2015 16:00</td>\n",
       "      <td>40.60</td>\n",
       "      <td>40.76</td>\n",
       "      <td>40.31</td>\n",
       "      <td>40.72</td>\n",
       "      <td>36865322</td>\n",
       "    </tr>\n",
       "    <tr>\n",
       "      <th>1</th>\n",
       "      <td>4/2/2015 16:00</td>\n",
       "      <td>40.66</td>\n",
       "      <td>40.74</td>\n",
       "      <td>40.12</td>\n",
       "      <td>40.29</td>\n",
       "      <td>37487476</td>\n",
       "    </tr>\n",
       "    <tr>\n",
       "      <th>2</th>\n",
       "      <td>4/6/2015 16:00</td>\n",
       "      <td>40.34</td>\n",
       "      <td>41.78</td>\n",
       "      <td>40.18</td>\n",
       "      <td>41.55</td>\n",
       "      <td>39223692</td>\n",
       "    </tr>\n",
       "    <tr>\n",
       "      <th>3</th>\n",
       "      <td>4/7/2015 16:00</td>\n",
       "      <td>41.61</td>\n",
       "      <td>41.91</td>\n",
       "      <td>41.31</td>\n",
       "      <td>41.53</td>\n",
       "      <td>28809375</td>\n",
       "    </tr>\n",
       "    <tr>\n",
       "      <th>4</th>\n",
       "      <td>4/8/2015 16:00</td>\n",
       "      <td>41.48</td>\n",
       "      <td>41.69</td>\n",
       "      <td>41.04</td>\n",
       "      <td>41.42</td>\n",
       "      <td>24753438</td>\n",
       "    </tr>\n",
       "    <tr>\n",
       "      <th>5</th>\n",
       "      <td>4/9/2015 16:00</td>\n",
       "      <td>41.25</td>\n",
       "      <td>41.62</td>\n",
       "      <td>41.25</td>\n",
       "      <td>41.48</td>\n",
       "      <td>25723861</td>\n",
       "    </tr>\n",
       "    <tr>\n",
       "      <th>6</th>\n",
       "      <td>4/10/2015 16:00</td>\n",
       "      <td>41.63</td>\n",
       "      <td>41.95</td>\n",
       "      <td>41.41</td>\n",
       "      <td>41.72</td>\n",
       "      <td>28022002</td>\n",
       "    </tr>\n",
       "    <tr>\n",
       "      <th>7</th>\n",
       "      <td>4/13/2015 16:00</td>\n",
       "      <td>41.40</td>\n",
       "      <td>42.06</td>\n",
       "      <td>41.39</td>\n",
       "      <td>41.76</td>\n",
       "      <td>30276692</td>\n",
       "    </tr>\n",
       "    <tr>\n",
       "      <th>8</th>\n",
       "      <td>4/14/2015 16:00</td>\n",
       "      <td>41.80</td>\n",
       "      <td>42.03</td>\n",
       "      <td>41.39</td>\n",
       "      <td>41.65</td>\n",
       "      <td>24244382</td>\n",
       "    </tr>\n",
       "    <tr>\n",
       "      <th>9</th>\n",
       "      <td>4/15/2015 16:00</td>\n",
       "      <td>41.76</td>\n",
       "      <td>42.46</td>\n",
       "      <td>41.68</td>\n",
       "      <td>42.26</td>\n",
       "      <td>27343581</td>\n",
       "    </tr>\n",
       "    <tr>\n",
       "      <th>10</th>\n",
       "      <td>4/16/2015 16:00</td>\n",
       "      <td>41.95</td>\n",
       "      <td>42.34</td>\n",
       "      <td>41.82</td>\n",
       "      <td>42.16</td>\n",
       "      <td>22509652</td>\n",
       "    </tr>\n",
       "    <tr>\n",
       "      <th>11</th>\n",
       "      <td>4/17/2015 16:00</td>\n",
       "      <td>41.67</td>\n",
       "      <td>41.74</td>\n",
       "      <td>41.16</td>\n",
       "      <td>41.62</td>\n",
       "      <td>42387608</td>\n",
       "    </tr>\n",
       "    <tr>\n",
       "      <th>12</th>\n",
       "      <td>4/20/2015 16:00</td>\n",
       "      <td>41.73</td>\n",
       "      <td>43.17</td>\n",
       "      <td>41.68</td>\n",
       "      <td>42.91</td>\n",
       "      <td>46057733</td>\n",
       "    </tr>\n",
       "    <tr>\n",
       "      <th>13</th>\n",
       "      <td>4/21/2015 16:00</td>\n",
       "      <td>43.00</td>\n",
       "      <td>43.15</td>\n",
       "      <td>42.53</td>\n",
       "      <td>42.64</td>\n",
       "      <td>26013844</td>\n",
       "    </tr>\n",
       "    <tr>\n",
       "      <th>14</th>\n",
       "      <td>4/22/2015 16:00</td>\n",
       "      <td>42.67</td>\n",
       "      <td>43.13</td>\n",
       "      <td>42.55</td>\n",
       "      <td>42.99</td>\n",
       "      <td>25064273</td>\n",
       "    </tr>\n",
       "  </tbody>\n",
       "</table>\n",
       "</div>"
      ],
      "text/plain": [
       "               Date   Open   High    Low  Close    Volume\n",
       "0    4/1/2015 16:00  40.60  40.76  40.31  40.72  36865322\n",
       "1    4/2/2015 16:00  40.66  40.74  40.12  40.29  37487476\n",
       "2    4/6/2015 16:00  40.34  41.78  40.18  41.55  39223692\n",
       "3    4/7/2015 16:00  41.61  41.91  41.31  41.53  28809375\n",
       "4    4/8/2015 16:00  41.48  41.69  41.04  41.42  24753438\n",
       "5    4/9/2015 16:00  41.25  41.62  41.25  41.48  25723861\n",
       "6   4/10/2015 16:00  41.63  41.95  41.41  41.72  28022002\n",
       "7   4/13/2015 16:00  41.40  42.06  41.39  41.76  30276692\n",
       "8   4/14/2015 16:00  41.80  42.03  41.39  41.65  24244382\n",
       "9   4/15/2015 16:00  41.76  42.46  41.68  42.26  27343581\n",
       "10  4/16/2015 16:00  41.95  42.34  41.82  42.16  22509652\n",
       "11  4/17/2015 16:00  41.67  41.74  41.16  41.62  42387608\n",
       "12  4/20/2015 16:00  41.73  43.17  41.68  42.91  46057733\n",
       "13  4/21/2015 16:00  43.00  43.15  42.53  42.64  26013844\n",
       "14  4/22/2015 16:00  42.67  43.13  42.55  42.99  25064273"
      ]
     },
     "execution_count": 3,
     "metadata": {},
     "output_type": "execute_result"
    }
   ],
   "source": [
    "df.head(15)"
   ]
  },
  {
   "cell_type": "markdown",
   "id": "72d1140d",
   "metadata": {},
   "source": [
    "### Descriptive Statistics"
   ]
  },
  {
   "cell_type": "code",
   "execution_count": 4,
   "id": "0851d8da",
   "metadata": {},
   "outputs": [
    {
     "data": {
      "text/html": [
       "<div>\n",
       "<style scoped>\n",
       "    .dataframe tbody tr th:only-of-type {\n",
       "        vertical-align: middle;\n",
       "    }\n",
       "\n",
       "    .dataframe tbody tr th {\n",
       "        vertical-align: top;\n",
       "    }\n",
       "\n",
       "    .dataframe thead th {\n",
       "        text-align: right;\n",
       "    }\n",
       "</style>\n",
       "<table border=\"1\" class=\"dataframe\">\n",
       "  <thead>\n",
       "    <tr style=\"text-align: right;\">\n",
       "      <th></th>\n",
       "      <th>Open</th>\n",
       "      <th>High</th>\n",
       "      <th>Low</th>\n",
       "      <th>Close</th>\n",
       "      <th>Volume</th>\n",
       "    </tr>\n",
       "  </thead>\n",
       "  <tbody>\n",
       "    <tr>\n",
       "      <th>count</th>\n",
       "      <td>1511.000000</td>\n",
       "      <td>1511.000000</td>\n",
       "      <td>1511.000000</td>\n",
       "      <td>1511.000000</td>\n",
       "      <td>1.511000e+03</td>\n",
       "    </tr>\n",
       "    <tr>\n",
       "      <th>mean</th>\n",
       "      <td>107.385976</td>\n",
       "      <td>108.437472</td>\n",
       "      <td>106.294533</td>\n",
       "      <td>107.422091</td>\n",
       "      <td>3.019863e+07</td>\n",
       "    </tr>\n",
       "    <tr>\n",
       "      <th>std</th>\n",
       "      <td>56.691333</td>\n",
       "      <td>57.382276</td>\n",
       "      <td>55.977155</td>\n",
       "      <td>56.702299</td>\n",
       "      <td>1.425266e+07</td>\n",
       "    </tr>\n",
       "    <tr>\n",
       "      <th>min</th>\n",
       "      <td>40.340000</td>\n",
       "      <td>40.740000</td>\n",
       "      <td>39.720000</td>\n",
       "      <td>40.290000</td>\n",
       "      <td>1.016120e+05</td>\n",
       "    </tr>\n",
       "    <tr>\n",
       "      <th>25%</th>\n",
       "      <td>57.860000</td>\n",
       "      <td>58.060000</td>\n",
       "      <td>57.420000</td>\n",
       "      <td>57.855000</td>\n",
       "      <td>2.136213e+07</td>\n",
       "    </tr>\n",
       "    <tr>\n",
       "      <th>50%</th>\n",
       "      <td>93.990000</td>\n",
       "      <td>95.100000</td>\n",
       "      <td>92.920000</td>\n",
       "      <td>93.860000</td>\n",
       "      <td>2.662962e+07</td>\n",
       "    </tr>\n",
       "    <tr>\n",
       "      <th>75%</th>\n",
       "      <td>139.440000</td>\n",
       "      <td>140.325000</td>\n",
       "      <td>137.825000</td>\n",
       "      <td>138.965000</td>\n",
       "      <td>3.431962e+07</td>\n",
       "    </tr>\n",
       "    <tr>\n",
       "      <th>max</th>\n",
       "      <td>245.030000</td>\n",
       "      <td>246.130000</td>\n",
       "      <td>242.920000</td>\n",
       "      <td>244.990000</td>\n",
       "      <td>1.352271e+08</td>\n",
       "    </tr>\n",
       "  </tbody>\n",
       "</table>\n",
       "</div>"
      ],
      "text/plain": [
       "              Open         High          Low        Close        Volume\n",
       "count  1511.000000  1511.000000  1511.000000  1511.000000  1.511000e+03\n",
       "mean    107.385976   108.437472   106.294533   107.422091  3.019863e+07\n",
       "std      56.691333    57.382276    55.977155    56.702299  1.425266e+07\n",
       "min      40.340000    40.740000    39.720000    40.290000  1.016120e+05\n",
       "25%      57.860000    58.060000    57.420000    57.855000  2.136213e+07\n",
       "50%      93.990000    95.100000    92.920000    93.860000  2.662962e+07\n",
       "75%     139.440000   140.325000   137.825000   138.965000  3.431962e+07\n",
       "max     245.030000   246.130000   242.920000   244.990000  1.352271e+08"
      ]
     },
     "execution_count": 4,
     "metadata": {},
     "output_type": "execute_result"
    }
   ],
   "source": [
    "df.describe()"
   ]
  },
  {
   "cell_type": "code",
   "execution_count": 5,
   "id": "908f110c",
   "metadata": {},
   "outputs": [
    {
     "data": {
      "text/plain": [
       "Date       object\n",
       "Open      float64\n",
       "High      float64\n",
       "Low       float64\n",
       "Close     float64\n",
       "Volume      int64\n",
       "dtype: object"
      ]
     },
     "execution_count": 5,
     "metadata": {},
     "output_type": "execute_result"
    }
   ],
   "source": [
    "df.dtypes"
   ]
  },
  {
   "cell_type": "markdown",
   "id": "8ddadfc2",
   "metadata": {},
   "source": [
    "### Data Dictionary"
   ]
  },
  {
   "cell_type": "markdown",
   "id": "ffb01c09",
   "metadata": {},
   "source": [
    "<b>Date</b> - The date pertaining to the prices being reported.\n",
    "\n",
    "<b>Open</b> - Opening price of the stock.\n",
    "\n",
    "<b>High</b> - Stock's daily high.\n",
    "\n",
    "<b>Low</b> - Stock's daily low.\n",
    "\n",
    "<b>Close</b> - Stock's closing price.\n",
    "\n",
    "<b>Volume</b> - The number of shares traded for the day.\n",
    "\n",
    "The target variable for this project will be the stock's closing price."
   ]
  },
  {
   "cell_type": "markdown",
   "id": "08aaa389",
   "metadata": {},
   "source": [
    "### Setting the Date Index"
   ]
  },
  {
   "cell_type": "code",
   "execution_count": 6,
   "id": "17e5987a",
   "metadata": {},
   "outputs": [
    {
     "data": {
      "text/html": [
       "<div>\n",
       "<style scoped>\n",
       "    .dataframe tbody tr th:only-of-type {\n",
       "        vertical-align: middle;\n",
       "    }\n",
       "\n",
       "    .dataframe tbody tr th {\n",
       "        vertical-align: top;\n",
       "    }\n",
       "\n",
       "    .dataframe thead th {\n",
       "        text-align: right;\n",
       "    }\n",
       "</style>\n",
       "<table border=\"1\" class=\"dataframe\">\n",
       "  <thead>\n",
       "    <tr style=\"text-align: right;\">\n",
       "      <th></th>\n",
       "      <th>Open</th>\n",
       "      <th>High</th>\n",
       "      <th>Low</th>\n",
       "      <th>Close</th>\n",
       "      <th>Volume</th>\n",
       "    </tr>\n",
       "    <tr>\n",
       "      <th>Date</th>\n",
       "      <th></th>\n",
       "      <th></th>\n",
       "      <th></th>\n",
       "      <th></th>\n",
       "      <th></th>\n",
       "    </tr>\n",
       "  </thead>\n",
       "  <tbody>\n",
       "    <tr>\n",
       "      <th>2015-04-01 16:00:00</th>\n",
       "      <td>40.60</td>\n",
       "      <td>40.76</td>\n",
       "      <td>40.31</td>\n",
       "      <td>40.72</td>\n",
       "      <td>36865322</td>\n",
       "    </tr>\n",
       "    <tr>\n",
       "      <th>2015-04-02 16:00:00</th>\n",
       "      <td>40.66</td>\n",
       "      <td>40.74</td>\n",
       "      <td>40.12</td>\n",
       "      <td>40.29</td>\n",
       "      <td>37487476</td>\n",
       "    </tr>\n",
       "    <tr>\n",
       "      <th>2015-04-06 16:00:00</th>\n",
       "      <td>40.34</td>\n",
       "      <td>41.78</td>\n",
       "      <td>40.18</td>\n",
       "      <td>41.55</td>\n",
       "      <td>39223692</td>\n",
       "    </tr>\n",
       "    <tr>\n",
       "      <th>2015-04-07 16:00:00</th>\n",
       "      <td>41.61</td>\n",
       "      <td>41.91</td>\n",
       "      <td>41.31</td>\n",
       "      <td>41.53</td>\n",
       "      <td>28809375</td>\n",
       "    </tr>\n",
       "    <tr>\n",
       "      <th>2015-04-08 16:00:00</th>\n",
       "      <td>41.48</td>\n",
       "      <td>41.69</td>\n",
       "      <td>41.04</td>\n",
       "      <td>41.42</td>\n",
       "      <td>24753438</td>\n",
       "    </tr>\n",
       "    <tr>\n",
       "      <th>2015-04-09 16:00:00</th>\n",
       "      <td>41.25</td>\n",
       "      <td>41.62</td>\n",
       "      <td>41.25</td>\n",
       "      <td>41.48</td>\n",
       "      <td>25723861</td>\n",
       "    </tr>\n",
       "    <tr>\n",
       "      <th>2015-04-10 16:00:00</th>\n",
       "      <td>41.63</td>\n",
       "      <td>41.95</td>\n",
       "      <td>41.41</td>\n",
       "      <td>41.72</td>\n",
       "      <td>28022002</td>\n",
       "    </tr>\n",
       "    <tr>\n",
       "      <th>2015-04-13 16:00:00</th>\n",
       "      <td>41.40</td>\n",
       "      <td>42.06</td>\n",
       "      <td>41.39</td>\n",
       "      <td>41.76</td>\n",
       "      <td>30276692</td>\n",
       "    </tr>\n",
       "    <tr>\n",
       "      <th>2015-04-14 16:00:00</th>\n",
       "      <td>41.80</td>\n",
       "      <td>42.03</td>\n",
       "      <td>41.39</td>\n",
       "      <td>41.65</td>\n",
       "      <td>24244382</td>\n",
       "    </tr>\n",
       "    <tr>\n",
       "      <th>2015-04-15 16:00:00</th>\n",
       "      <td>41.76</td>\n",
       "      <td>42.46</td>\n",
       "      <td>41.68</td>\n",
       "      <td>42.26</td>\n",
       "      <td>27343581</td>\n",
       "    </tr>\n",
       "    <tr>\n",
       "      <th>2015-04-16 16:00:00</th>\n",
       "      <td>41.95</td>\n",
       "      <td>42.34</td>\n",
       "      <td>41.82</td>\n",
       "      <td>42.16</td>\n",
       "      <td>22509652</td>\n",
       "    </tr>\n",
       "    <tr>\n",
       "      <th>2015-04-17 16:00:00</th>\n",
       "      <td>41.67</td>\n",
       "      <td>41.74</td>\n",
       "      <td>41.16</td>\n",
       "      <td>41.62</td>\n",
       "      <td>42387608</td>\n",
       "    </tr>\n",
       "    <tr>\n",
       "      <th>2015-04-20 16:00:00</th>\n",
       "      <td>41.73</td>\n",
       "      <td>43.17</td>\n",
       "      <td>41.68</td>\n",
       "      <td>42.91</td>\n",
       "      <td>46057733</td>\n",
       "    </tr>\n",
       "    <tr>\n",
       "      <th>2015-04-21 16:00:00</th>\n",
       "      <td>43.00</td>\n",
       "      <td>43.15</td>\n",
       "      <td>42.53</td>\n",
       "      <td>42.64</td>\n",
       "      <td>26013844</td>\n",
       "    </tr>\n",
       "    <tr>\n",
       "      <th>2015-04-22 16:00:00</th>\n",
       "      <td>42.67</td>\n",
       "      <td>43.13</td>\n",
       "      <td>42.55</td>\n",
       "      <td>42.99</td>\n",
       "      <td>25064273</td>\n",
       "    </tr>\n",
       "  </tbody>\n",
       "</table>\n",
       "</div>"
      ],
      "text/plain": [
       "                      Open   High    Low  Close    Volume\n",
       "Date                                                     \n",
       "2015-04-01 16:00:00  40.60  40.76  40.31  40.72  36865322\n",
       "2015-04-02 16:00:00  40.66  40.74  40.12  40.29  37487476\n",
       "2015-04-06 16:00:00  40.34  41.78  40.18  41.55  39223692\n",
       "2015-04-07 16:00:00  41.61  41.91  41.31  41.53  28809375\n",
       "2015-04-08 16:00:00  41.48  41.69  41.04  41.42  24753438\n",
       "2015-04-09 16:00:00  41.25  41.62  41.25  41.48  25723861\n",
       "2015-04-10 16:00:00  41.63  41.95  41.41  41.72  28022002\n",
       "2015-04-13 16:00:00  41.40  42.06  41.39  41.76  30276692\n",
       "2015-04-14 16:00:00  41.80  42.03  41.39  41.65  24244382\n",
       "2015-04-15 16:00:00  41.76  42.46  41.68  42.26  27343581\n",
       "2015-04-16 16:00:00  41.95  42.34  41.82  42.16  22509652\n",
       "2015-04-17 16:00:00  41.67  41.74  41.16  41.62  42387608\n",
       "2015-04-20 16:00:00  41.73  43.17  41.68  42.91  46057733\n",
       "2015-04-21 16:00:00  43.00  43.15  42.53  42.64  26013844\n",
       "2015-04-22 16:00:00  42.67  43.13  42.55  42.99  25064273"
      ]
     },
     "execution_count": 6,
     "metadata": {},
     "output_type": "execute_result"
    }
   ],
   "source": [
    "# Format the date field\n",
    "df.set_index(df['Date'], inplace=True)\n",
    "df.index = pd.to_datetime(df['Date'])\n",
    "\n",
    "# Set the date field as the index\n",
    "del df['Date']\n",
    "df.head(15)"
   ]
  },
  {
   "cell_type": "markdown",
   "id": "32f2bb27",
   "metadata": {},
   "source": [
    "### Checking for Missing Values"
   ]
  },
  {
   "cell_type": "code",
   "execution_count": 7,
   "id": "3336cefa",
   "metadata": {},
   "outputs": [
    {
     "name": "stdout",
     "output_type": "stream",
     "text": [
      "The following is a summary of the missing values in our dataset:\n",
      "Open      0\n",
      "High      0\n",
      "Low       0\n",
      "Close     0\n",
      "Volume    0\n",
      "dtype: int64\n"
     ]
    },
    {
     "data": {
      "image/png": "[encoded data removed]",
      "text/plain": [
       "<Figure size 2160x360 with 1 Axes>"
      ]
     },
     "metadata": {
      "needs_background": "light"
     },
     "output_type": "display_data"
    }
   ],
   "source": [
    "print(\"The following is a summary of the missing values in our dataset:\")\n",
    "print(df.isna().sum().sort_values(ascending=False))\n",
    "\n",
    "# Calculate the percentage of missing values for each column\n",
    "perc_missing = df.isnull().sum() * 100 / len(df)\n",
    "df_missing_values = pd.DataFrame({'column_name': df.columns,\n",
    "                                 'percent_missing': perc_missing})\n",
    "df_missing_values.sort_values('percent_missing', inplace=True, ascending=False)\n",
    "\n",
    "# Construct a plot to display the percentages of missing values\n",
    "fig, ax = plt.subplots(figsize=(30, 5))\n",
    "sns.barplot(\n",
    "    x='column_name',\n",
    "    y='percent_missing',\n",
    "    data=df_missing_values,\n",
    "    ax=ax\n",
    ")\n",
    "plt.xlabel('column_name')\n",
    "plt.ylabel('percent_missing')\n",
    "plt.show()"
   ]
  },
  {
   "cell_type": "markdown",
   "id": "31d17aaf",
   "metadata": {},
   "source": [
    "No missing values were discovered in this dataset."
   ]
  },
  {
   "cell_type": "markdown",
   "id": "507f2dc0",
   "metadata": {},
   "source": [
    "### Plotting the Time Series"
   ]
  },
  {
   "cell_type": "markdown",
   "id": "7aa3120b",
   "metadata": {},
   "source": [
    "The time series will be plotted to discover any patterns within the data."
   ]
  },
  {
   "cell_type": "code",
   "execution_count": 8,
   "id": "84aa71a5",
   "metadata": {},
   "outputs": [
    {
     "data": {
      "text/plain": [
       "[<matplotlib.lines.Line2D at 0x23e16462670>]"
      ]
     },
     "execution_count": 8,
     "metadata": {},
     "output_type": "execute_result"
    },
    {
     "data": {
      "image/png": "[encoded data removed]",
      "text/plain": [
       "<Figure size 432x288 with 1 Axes>"
      ]
     },
     "metadata": {},
     "output_type": "display_data"
    }
   ],
   "source": [
    "sns.set()\n",
    "plt.ylabel('Price')\n",
    "plt.xlabel('Date')\n",
    "plt.xticks(rotation=45)\n",
    "plt.plot(df.index, df['Close'])"
   ]
  },
  {
   "cell_type": "markdown",
   "id": "337ea81a",
   "metadata": {},
   "source": [
    "The pattern discovered from this plot is an upward trend, meaning that the price of Microsoft stock has been increasing over time. It is important to note the 'dip' in the early part of 2020 because that signifies the start of the pandemic. There also appears to be some seasonality in the data which represents how the stock has risen or fallen on a regular basis.\n",
    "\n",
    "A Time Series Decomposition will be applied to learn more about the seasonality as well as the trend."
   ]
  },
  {
   "cell_type": "markdown",
   "id": "309a6c1b",
   "metadata": {},
   "source": [
    "### Time Series Decomposition"
   ]
  },
  {
   "cell_type": "markdown",
   "id": "4de41adb",
   "metadata": {},
   "source": [
    "For the Time Series Decomposition, the additive model will be used because the trend and seasonality of the data appears to be constant. Also, the data is to be aggregated by month so the period will be set to 30."
   ]
  },
  {
   "cell_type": "code",
   "execution_count": 9,
   "id": "1eeebf80",
   "metadata": {},
   "outputs": [],
   "source": [
    "decomposition = seasonal_decompose(df['Close'], model='additive', period=30)"
   ]
  },
  {
   "cell_type": "code",
   "execution_count": 10,
   "id": "7c538ff5",
   "metadata": {},
   "outputs": [
    {
     "data": {
      "text/plain": [
       "<AxesSubplot:xlabel='Date'>"
      ]
     },
     "execution_count": 10,
     "metadata": {},
     "output_type": "execute_result"
    },
    {
     "data": {
      "image/png": "[encoded data removed]",
      "text/plain": [
       "<Figure size 432x288 with 1 Axes>"
      ]
     },
     "metadata": {},
     "output_type": "display_data"
    }
   ],
   "source": [
    "decomposition.seasonal.plot()"
   ]
  },
  {
   "cell_type": "code",
   "execution_count": 11,
   "id": "41e607d2",
   "metadata": {},
   "outputs": [
    {
     "data": {
      "text/plain": [
       "<AxesSubplot:xlabel='Date'>"
      ]
     },
     "execution_count": 11,
     "metadata": {},
     "output_type": "execute_result"
    },
    {
     "data": {
      "image/png": "[encoded data removed]",
      "text/plain": [
       "<Figure size 432x288 with 1 Axes>"
      ]
     },
     "metadata": {},
     "output_type": "display_data"
    }
   ],
   "source": [
    "decomposition.trend.plot()"
   ]
  },
  {
   "cell_type": "code",
   "execution_count": 12,
   "id": "d59de002",
   "metadata": {},
   "outputs": [
    {
     "data": {
      "text/plain": [
       "<AxesSubplot:xlabel='Date'>"
      ]
     },
     "execution_count": 12,
     "metadata": {},
     "output_type": "execute_result"
    },
    {
     "data": {
      "image/png": "[encoded data removed]",
      "text/plain": [
       "<Figure size 432x288 with 1 Axes>"
      ]
     },
     "metadata": {},
     "output_type": "display_data"
    }
   ],
   "source": [
    "decomposition.resid.plot()"
   ]
  },
  {
   "cell_type": "markdown",
   "id": "5bdfa88a",
   "metadata": {},
   "source": [
    "The Time Series Decomposition shows that there is strong seasonality in the data and confirms the upward trend in the rise of Microsoft's stock. The growth of the stock also appears to be exponential based on the shape of the curve."
   ]
  },
  {
   "cell_type": "markdown",
   "id": "4af1f911",
   "metadata": {},
   "source": [
    "### Autocorrelation"
   ]
  },
  {
   "cell_type": "markdown",
   "id": "4d6a082d",
   "metadata": {},
   "source": [
    "An autocorrelation function will be used to determine how the future price of the stock is influenced by its previous prices."
   ]
  },
  {
   "cell_type": "code",
   "execution_count": 13,
   "id": "8d44e9e0",
   "metadata": {},
   "outputs": [
    {
     "data": {
      "text/html": [
       "<style  type=\"text/css\" >\n",
       "#T_23048_row0_col0,#T_23048_row1_col1,#T_23048_row2_col2,#T_23048_row3_col3,#T_23048_row4_col4,#T_23048_row5_col5,#T_23048_row6_col6,#T_23048_row7_col7,#T_23048_row8_col8,#T_23048_row9_col9,#T_23048_row10_col10,#T_23048_row11_col11,#T_23048_row12_col12,#T_23048_row13_col13,#T_23048_row14_col14,#T_23048_row15_col15{\n",
       "            background-color:  #b40426;\n",
       "            color:  #f1f1f1;\n",
       "        }#T_23048_row0_col1,#T_23048_row2_col1{\n",
       "            background-color:  #df634e;\n",
       "            color:  #000000;\n",
       "        }#T_23048_row0_col2,#T_23048_row4_col2{\n",
       "            background-color:  #ed8366;\n",
       "            color:  #000000;\n",
       "        }#T_23048_row0_col3{\n",
       "            background-color:  #f7af91;\n",
       "            color:  #000000;\n",
       "        }#T_23048_row0_col4{\n",
       "            background-color:  #ecd3c5;\n",
       "            color:  #000000;\n",
       "        }#T_23048_row0_col5,#T_23048_row9_col3{\n",
       "            background-color:  #c9d7f0;\n",
       "            color:  #000000;\n",
       "        }#T_23048_row0_col6,#T_23048_row3_col11,#T_23048_row4_col14{\n",
       "            background-color:  #89acfd;\n",
       "            color:  #000000;\n",
       "        }#T_23048_row0_col7,#T_23048_row13_col1{\n",
       "            background-color:  #5b7ae5;\n",
       "            color:  #000000;\n",
       "        }#T_23048_row0_col8,#T_23048_row0_col9,#T_23048_row0_col10,#T_23048_row0_col11,#T_23048_row0_col12,#T_23048_row0_col13,#T_23048_row0_col14,#T_23048_row0_col15,#T_23048_row15_col0,#T_23048_row15_col1,#T_23048_row15_col2,#T_23048_row15_col3,#T_23048_row15_col4,#T_23048_row15_col5,#T_23048_row15_col6,#T_23048_row15_col7{\n",
       "            background-color:  #3b4cc0;\n",
       "            color:  #f1f1f1;\n",
       "        }#T_23048_row1_col0{\n",
       "            background-color:  #dd5f4b;\n",
       "            color:  #000000;\n",
       "        }#T_23048_row1_col2,#T_23048_row3_col2{\n",
       "            background-color:  #e16751;\n",
       "            color:  #000000;\n",
       "        }#T_23048_row1_col3,#T_23048_row5_col3{\n",
       "            background-color:  #f08a6c;\n",
       "            color:  #000000;\n",
       "        }#T_23048_row1_col4{\n",
       "            background-color:  #f7b79b;\n",
       "            color:  #000000;\n",
       "        }#T_23048_row1_col5,#T_23048_row9_col15{\n",
       "            background-color:  #e4d9d2;\n",
       "            color:  #000000;\n",
       "        }#T_23048_row1_col6{\n",
       "            background-color:  #b1cbfc;\n",
       "            color:  #000000;\n",
       "        }#T_23048_row1_col7,#T_23048_row13_col6{\n",
       "            background-color:  #7699f6;\n",
       "            color:  #000000;\n",
       "        }#T_23048_row1_col8{\n",
       "            background-color:  #6384eb;\n",
       "            color:  #000000;\n",
       "        }#T_23048_row1_col9,#T_23048_row14_col6{\n",
       "            background-color:  #4f69d9;\n",
       "            color:  #000000;\n",
       "        }#T_23048_row1_col10,#T_23048_row2_col14,#T_23048_row14_col5{\n",
       "            background-color:  #5e7de7;\n",
       "            color:  #000000;\n",
       "        }#T_23048_row1_col11{\n",
       "            background-color:  #516ddb;\n",
       "            color:  #000000;\n",
       "        }#T_23048_row1_col12,#T_23048_row1_col13,#T_23048_row14_col2,#T_23048_row14_col3,#T_23048_row14_col4{\n",
       "            background-color:  #506bda;\n",
       "            color:  #000000;\n",
       "        }#T_23048_row1_col14{\n",
       "            background-color:  #485fd1;\n",
       "            color:  #f1f1f1;\n",
       "        }#T_23048_row1_col15{\n",
       "            background-color:  #4b64d5;\n",
       "            color:  #f1f1f1;\n",
       "        }#T_23048_row2_col0{\n",
       "            background-color:  #e97a5f;\n",
       "            color:  #000000;\n",
       "        }#T_23048_row2_col3,#T_23048_row4_col3{\n",
       "            background-color:  #e36b54;\n",
       "            color:  #000000;\n",
       "        }#T_23048_row2_col4,#T_23048_row6_col4{\n",
       "            background-color:  #f29072;\n",
       "            color:  #000000;\n",
       "        }#T_23048_row2_col5,#T_23048_row8_col5{\n",
       "            background-color:  #f6bea4;\n",
       "            color:  #000000;\n",
       "        }#T_23048_row2_col6,#T_23048_row8_col2{\n",
       "            background-color:  #d5dbe5;\n",
       "            color:  #000000;\n",
       "        }#T_23048_row2_col7{\n",
       "            background-color:  #a1c0ff;\n",
       "            color:  #000000;\n",
       "        }#T_23048_row2_col8{\n",
       "            background-color:  #7da0f9;\n",
       "            color:  #000000;\n",
       "        }#T_23048_row2_col9{\n",
       "            background-color:  #779af7;\n",
       "            color:  #000000;\n",
       "        }#T_23048_row2_col10,#T_23048_row3_col14,#T_23048_row13_col4{\n",
       "            background-color:  #7396f5;\n",
       "            color:  #000000;\n",
       "        }#T_23048_row2_col11{\n",
       "            background-color:  #7597f6;\n",
       "            color:  #000000;\n",
       "        }#T_23048_row2_col12,#T_23048_row2_col13{\n",
       "            background-color:  #6788ee;\n",
       "            color:  #000000;\n",
       "        }#T_23048_row2_col15{\n",
       "            background-color:  #5875e1;\n",
       "            color:  #000000;\n",
       "        }#T_23048_row3_col0{\n",
       "            background-color:  #f59c7d;\n",
       "            color:  #000000;\n",
       "        }#T_23048_row3_col1,#T_23048_row8_col9,#T_23048_row10_col9{\n",
       "            background-color:  #ec7f63;\n",
       "            color:  #000000;\n",
       "        }#T_23048_row3_col4,#T_23048_row5_col4{\n",
       "            background-color:  #e57058;\n",
       "            color:  #000000;\n",
       "        }#T_23048_row3_col5,#T_23048_row7_col5,#T_23048_row12_col15{\n",
       "            background-color:  #f4987a;\n",
       "            color:  #000000;\n",
       "        }#T_23048_row3_col6,#T_23048_row7_col3,#T_23048_row9_col6{\n",
       "            background-color:  #f2cbb7;\n",
       "            color:  #000000;\n",
       "        }#T_23048_row3_col7,#T_23048_row6_col13{\n",
       "            background-color:  #cad8ef;\n",
       "            color:  #000000;\n",
       "        }#T_23048_row3_col8{\n",
       "            background-color:  #a7c5fe;\n",
       "            color:  #000000;\n",
       "        }#T_23048_row3_col9{\n",
       "            background-color:  #90b2fe;\n",
       "            color:  #000000;\n",
       "        }#T_23048_row3_col10,#T_23048_row5_col15{\n",
       "            background-color:  #98b9ff;\n",
       "            color:  #000000;\n",
       "        }#T_23048_row3_col12{\n",
       "            background-color:  #8badfd;\n",
       "            color:  #000000;\n",
       "        }#T_23048_row3_col13{\n",
       "            background-color:  #7ea1fa;\n",
       "            color:  #000000;\n",
       "        }#T_23048_row3_col15{\n",
       "            background-color:  #6e90f2;\n",
       "            color:  #000000;\n",
       "        }#T_23048_row4_col0{\n",
       "            background-color:  #f7b99e;\n",
       "            color:  #000000;\n",
       "        }#T_23048_row4_col1{\n",
       "            background-color:  #f6a283;\n",
       "            color:  #000000;\n",
       "        }#T_23048_row4_col5,#T_23048_row6_col5{\n",
       "            background-color:  #e8765c;\n",
       "            color:  #000000;\n",
       "        }#T_23048_row4_col6,#T_23048_row8_col6{\n",
       "            background-color:  #f6a586;\n",
       "            color:  #000000;\n",
       "        }#T_23048_row4_col7,#T_23048_row6_col1,#T_23048_row8_col4{\n",
       "            background-color:  #edd2c3;\n",
       "            color:  #000000;\n",
       "        }#T_23048_row4_col8,#T_23048_row5_col10{\n",
       "            background-color:  #cdd9ec;\n",
       "            color:  #000000;\n",
       "        }#T_23048_row4_col9{\n",
       "            background-color:  #b6cefa;\n",
       "            color:  #000000;\n",
       "        }#T_23048_row4_col10,#T_23048_row5_col13{\n",
       "            background-color:  #aec9fc;\n",
       "            color:  #000000;\n",
       "        }#T_23048_row4_col11,#T_23048_row10_col2,#T_23048_row11_col5{\n",
       "            background-color:  #abc8fd;\n",
       "            color:  #000000;\n",
       "        }#T_23048_row4_col12{\n",
       "            background-color:  #9dbdff;\n",
       "            color:  #000000;\n",
       "        }#T_23048_row4_col13{\n",
       "            background-color:  #9ebeff;\n",
       "            color:  #000000;\n",
       "        }#T_23048_row4_col15{\n",
       "            background-color:  #84a7fc;\n",
       "            color:  #000000;\n",
       "        }#T_23048_row5_col0{\n",
       "            background-color:  #f1cdba;\n",
       "            color:  #000000;\n",
       "        }#T_23048_row5_col1{\n",
       "            background-color:  #f6bfa6;\n",
       "            color:  #000000;\n",
       "        }#T_23048_row5_col2{\n",
       "            background-color:  #f7a688;\n",
       "            color:  #000000;\n",
       "        }#T_23048_row5_col6,#T_23048_row7_col6,#T_23048_row11_col13,#T_23048_row15_col13{\n",
       "            background-color:  #ec8165;\n",
       "            color:  #000000;\n",
       "        }#T_23048_row5_col7,#T_23048_row6_col3,#T_23048_row9_col7{\n",
       "            background-color:  #f7ad90;\n",
       "            color:  #000000;\n",
       "        }#T_23048_row5_col8{\n",
       "            background-color:  #efcfbf;\n",
       "            color:  #000000;\n",
       "        }#T_23048_row5_col9{\n",
       "            background-color:  #d8dce2;\n",
       "            color:  #000000;\n",
       "        }#T_23048_row5_col11{\n",
       "            background-color:  #bed2f6;\n",
       "            color:  #000000;\n",
       "        }#T_23048_row5_col12{\n",
       "            background-color:  #bcd2f7;\n",
       "            color:  #000000;\n",
       "        }#T_23048_row5_col14,#T_23048_row11_col4{\n",
       "            background-color:  #a9c6fd;\n",
       "            color:  #000000;\n",
       "        }#T_23048_row6_col0{\n",
       "            background-color:  #e1dad6;\n",
       "            color:  #000000;\n",
       "        }#T_23048_row6_col2{\n",
       "            background-color:  #f5c4ac;\n",
       "            color:  #000000;\n",
       "        }#T_23048_row6_col7,#T_23048_row8_col7,#T_23048_row10_col12,#T_23048_row14_col12{\n",
       "            background-color:  #ef886b;\n",
       "            color:  #000000;\n",
       "        }#T_23048_row6_col8,#T_23048_row10_col8,#T_23048_row15_col12{\n",
       "            background-color:  #f7aa8c;\n",
       "            color:  #000000;\n",
       "        }#T_23048_row6_col9,#T_23048_row8_col12{\n",
       "            background-color:  #f2c9b4;\n",
       "            color:  #000000;\n",
       "        }#T_23048_row6_col10{\n",
       "            background-color:  #e8d6cc;\n",
       "            color:  #000000;\n",
       "        }#T_23048_row6_col11,#T_23048_row8_col15{\n",
       "            background-color:  #d9dce1;\n",
       "            color:  #000000;\n",
       "        }#T_23048_row6_col12,#T_23048_row11_col7{\n",
       "            background-color:  #ccd9ed;\n",
       "            color:  #000000;\n",
       "        }#T_23048_row6_col14{\n",
       "            background-color:  #b9d0f9;\n",
       "            color:  #000000;\n",
       "        }#T_23048_row6_col15,#T_23048_row9_col1,#T_23048_row11_col6{\n",
       "            background-color:  #b5cdfa;\n",
       "            color:  #000000;\n",
       "        }#T_23048_row7_col0,#T_23048_row10_col6{\n",
       "            background-color:  #d6dce4;\n",
       "            color:  #000000;\n",
       "        }#T_23048_row7_col1,#T_23048_row13_col9{\n",
       "            background-color:  #dadce0;\n",
       "            color:  #000000;\n",
       "        }#T_23048_row7_col2,#T_23048_row14_col10{\n",
       "            background-color:  #e9d5cb;\n",
       "            color:  #000000;\n",
       "        }#T_23048_row7_col4,#T_23048_row11_col15{\n",
       "            background-color:  #f7b599;\n",
       "            color:  #000000;\n",
       "        }#T_23048_row7_col8{\n",
       "            background-color:  #ee8669;\n",
       "            color:  #000000;\n",
       "        }#T_23048_row7_col9,#T_23048_row10_col13,#T_23048_row11_col9{\n",
       "            background-color:  #f6a385;\n",
       "            color:  #000000;\n",
       "        }#T_23048_row7_col10,#T_23048_row10_col14,#T_23048_row13_col10{\n",
       "            background-color:  #f7bca1;\n",
       "            color:  #000000;\n",
       "        }#T_23048_row7_col11,#T_23048_row9_col14{\n",
       "            background-color:  #eed0c0;\n",
       "            color:  #000000;\n",
       "        }#T_23048_row7_col12{\n",
       "            background-color:  #e3d9d3;\n",
       "            color:  #000000;\n",
       "        }#T_23048_row7_col13,#T_23048_row9_col4{\n",
       "            background-color:  #d7dce3;\n",
       "            color:  #000000;\n",
       "        }#T_23048_row7_col14{\n",
       "            background-color:  #d2dbe8;\n",
       "            color:  #000000;\n",
       "        }#T_23048_row7_col15{\n",
       "            background-color:  #c4d5f3;\n",
       "            color:  #000000;\n",
       "        }#T_23048_row8_col0{\n",
       "            background-color:  #bfd3f6;\n",
       "            color:  #000000;\n",
       "        }#T_23048_row8_col1{\n",
       "            background-color:  #cedaeb;\n",
       "            color:  #000000;\n",
       "        }#T_23048_row8_col3{\n",
       "            background-color:  #e0dbd8;\n",
       "            color:  #000000;\n",
       "        }#T_23048_row8_col10,#T_23048_row12_col10{\n",
       "            background-color:  #f39778;\n",
       "            color:  #000000;\n",
       "        }#T_23048_row8_col11{\n",
       "            background-color:  #f7b497;\n",
       "            color:  #000000;\n",
       "        }#T_23048_row8_col13{\n",
       "            background-color:  #ebd3c6;\n",
       "            color:  #000000;\n",
       "        }#T_23048_row8_col14{\n",
       "            background-color:  #dddcdc;\n",
       "            color:  #000000;\n",
       "        }#T_23048_row9_col0{\n",
       "            background-color:  #b2ccfb;\n",
       "            color:  #000000;\n",
       "        }#T_23048_row9_col2{\n",
       "            background-color:  #c7d7f0;\n",
       "            color:  #000000;\n",
       "        }#T_23048_row9_col5{\n",
       "            background-color:  #e6d7cf;\n",
       "            color:  #000000;\n",
       "        }#T_23048_row9_col8{\n",
       "            background-color:  #ee8468;\n",
       "            color:  #000000;\n",
       "        }#T_23048_row9_col10,#T_23048_row11_col10{\n",
       "            background-color:  #e7745b;\n",
       "            color:  #000000;\n",
       "        }#T_23048_row9_col11,#T_23048_row13_col11{\n",
       "            background-color:  #f18f71;\n",
       "            color:  #000000;\n",
       "        }#T_23048_row9_col12{\n",
       "            background-color:  #f7ac8e;\n",
       "            color:  #000000;\n",
       "        }#T_23048_row9_col13{\n",
       "            background-color:  #f5c0a7;\n",
       "            color:  #000000;\n",
       "        }#T_23048_row10_col0,#T_23048_row15_col9{\n",
       "            background-color:  #94b6ff;\n",
       "            color:  #000000;\n",
       "        }#T_23048_row10_col1,#T_23048_row12_col7{\n",
       "            background-color:  #a5c3fe;\n",
       "            color:  #000000;\n",
       "        }#T_23048_row10_col3,#T_23048_row14_col9{\n",
       "            background-color:  #bad0f8;\n",
       "            color:  #000000;\n",
       "        }#T_23048_row10_col4{\n",
       "            background-color:  #bbd1f8;\n",
       "            color:  #000000;\n",
       "        }#T_23048_row10_col5{\n",
       "            background-color:  #cbd8ee;\n",
       "            color:  #000000;\n",
       "        }#T_23048_row10_col7{\n",
       "            background-color:  #edd1c2;\n",
       "            color:  #000000;\n",
       "        }#T_23048_row10_col11,#T_23048_row12_col11{\n",
       "            background-color:  #e46e56;\n",
       "            color:  #000000;\n",
       "        }#T_23048_row10_col15{\n",
       "            background-color:  #f2cab5;\n",
       "            color:  #000000;\n",
       "        }#T_23048_row11_col0,#T_23048_row14_col8{\n",
       "            background-color:  #81a4fb;\n",
       "            color:  #000000;\n",
       "        }#T_23048_row11_col1,#T_23048_row12_col4{\n",
       "            background-color:  #86a9fc;\n",
       "            color:  #000000;\n",
       "        }#T_23048_row11_col2{\n",
       "            background-color:  #9bbcff;\n",
       "            color:  #000000;\n",
       "        }#T_23048_row11_col3{\n",
       "            background-color:  #9abbff;\n",
       "            color:  #000000;\n",
       "        }#T_23048_row11_col8,#T_23048_row15_col11{\n",
       "            background-color:  #efcebd;\n",
       "            color:  #000000;\n",
       "        }#T_23048_row11_col12,#T_23048_row13_col12{\n",
       "            background-color:  #e26952;\n",
       "            color:  #000000;\n",
       "        }#T_23048_row11_col14{\n",
       "            background-color:  #f59f80;\n",
       "            color:  #000000;\n",
       "        }#T_23048_row12_col0{\n",
       "            background-color:  #6b8df0;\n",
       "            color:  #000000;\n",
       "        }#T_23048_row12_col1,#T_23048_row13_col5{\n",
       "            background-color:  #7295f4;\n",
       "            color:  #000000;\n",
       "        }#T_23048_row12_col2{\n",
       "            background-color:  #7b9ff9;\n",
       "            color:  #000000;\n",
       "        }#T_23048_row12_col3{\n",
       "            background-color:  #88abfd;\n",
       "            color:  #000000;\n",
       "        }#T_23048_row12_col5{\n",
       "            background-color:  #97b8ff;\n",
       "            color:  #000000;\n",
       "        }#T_23048_row12_col6{\n",
       "            background-color:  #8db0fe;\n",
       "            color:  #000000;\n",
       "        }#T_23048_row12_col8,#T_23048_row15_col10{\n",
       "            background-color:  #cfdaea;\n",
       "            color:  #000000;\n",
       "        }#T_23048_row12_col9{\n",
       "            background-color:  #f3c8b2;\n",
       "            color:  #000000;\n",
       "        }#T_23048_row12_col13,#T_23048_row14_col13{\n",
       "            background-color:  #e0654f;\n",
       "            color:  #000000;\n",
       "        }#T_23048_row12_col14{\n",
       "            background-color:  #eb7d62;\n",
       "            color:  #000000;\n",
       "        }#T_23048_row13_col0{\n",
       "            background-color:  #5673e0;\n",
       "            color:  #000000;\n",
       "        }#T_23048_row13_col2,#T_23048_row13_col3{\n",
       "            background-color:  #6687ed;\n",
       "            color:  #000000;\n",
       "        }#T_23048_row13_col7{\n",
       "            background-color:  #7a9df8;\n",
       "            color:  #000000;\n",
       "        }#T_23048_row13_col8{\n",
       "            background-color:  #aac7fd;\n",
       "            color:  #000000;\n",
       "        }#T_23048_row13_col14,#T_23048_row15_col14{\n",
       "            background-color:  #de614d;\n",
       "            color:  #000000;\n",
       "        }#T_23048_row13_col15{\n",
       "            background-color:  #e9785d;\n",
       "            color:  #000000;\n",
       "        }#T_23048_row14_col0{\n",
       "            background-color:  #4a63d3;\n",
       "            color:  #f1f1f1;\n",
       "        }#T_23048_row14_col1{\n",
       "            background-color:  #465ecf;\n",
       "            color:  #f1f1f1;\n",
       "        }#T_23048_row14_col7{\n",
       "            background-color:  #6282ea;\n",
       "            color:  #000000;\n",
       "        }#T_23048_row14_col11{\n",
       "            background-color:  #f7b396;\n",
       "            color:  #000000;\n",
       "        }#T_23048_row14_col15{\n",
       "            background-color:  #dc5d4a;\n",
       "            color:  #000000;\n",
       "        }#T_23048_row15_col8{\n",
       "            background-color:  #6a8bef;\n",
       "            color:  #000000;\n",
       "        }</style><table id=\"T_23048_\" ><thead>    <tr>        <th class=\"blank level0\" ></th>        <th class=\"col_heading level0 col0\" >t</th>        <th class=\"col_heading level0 col1\" >t+1</th>        <th class=\"col_heading level0 col2\" >t+2</th>        <th class=\"col_heading level0 col3\" >t+3</th>        <th class=\"col_heading level0 col4\" >t+4</th>        <th class=\"col_heading level0 col5\" >t+5</th>        <th class=\"col_heading level0 col6\" >t+6</th>        <th class=\"col_heading level0 col7\" >t+7</th>        <th class=\"col_heading level0 col8\" >t+8</th>        <th class=\"col_heading level0 col9\" >t+9</th>        <th class=\"col_heading level0 col10\" >t+10</th>        <th class=\"col_heading level0 col11\" >t+11</th>        <th class=\"col_heading level0 col12\" >t+12</th>        <th class=\"col_heading level0 col13\" >t+13</th>        <th class=\"col_heading level0 col14\" >t+14</th>        <th class=\"col_heading level0 col15\" >t+15</th>    </tr></thead><tbody>\n",
       "                <tr>\n",
       "                        <th id=\"T_23048_level0_row0\" class=\"row_heading level0 row0\" >t</th>\n",
       "                        <td id=\"T_23048_row0_col0\" class=\"data row0 col0\" >1.000000</td>\n",
       "                        <td id=\"T_23048_row0_col1\" class=\"data row0 col1\" >0.999109</td>\n",
       "                        <td id=\"T_23048_row0_col2\" class=\"data row0 col2\" >0.998717</td>\n",
       "                        <td id=\"T_23048_row0_col3\" class=\"data row0 col3\" >0.998167</td>\n",
       "                        <td id=\"T_23048_row0_col4\" class=\"data row0 col4\" >0.997583</td>\n",
       "                        <td id=\"T_23048_row0_col5\" class=\"data row0 col5\" >0.997070</td>\n",
       "                        <td id=\"T_23048_row0_col6\" class=\"data row0 col6\" >0.996554</td>\n",
       "                        <td id=\"T_23048_row0_col7\" class=\"data row0 col7\" >0.996243</td>\n",
       "                        <td id=\"T_23048_row0_col8\" class=\"data row0 col8\" >0.995688</td>\n",
       "                        <td id=\"T_23048_row0_col9\" class=\"data row0 col9\" >0.995388</td>\n",
       "                        <td id=\"T_23048_row0_col10\" class=\"data row0 col10\" >0.994799</td>\n",
       "                        <td id=\"T_23048_row0_col11\" class=\"data row0 col11\" >0.994386</td>\n",
       "                        <td id=\"T_23048_row0_col12\" class=\"data row0 col12\" >0.993957</td>\n",
       "                        <td id=\"T_23048_row0_col13\" class=\"data row0 col13\" >0.993499</td>\n",
       "                        <td id=\"T_23048_row0_col14\" class=\"data row0 col14\" >0.993220</td>\n",
       "                        <td id=\"T_23048_row0_col15\" class=\"data row0 col15\" >0.992843</td>\n",
       "            </tr>\n",
       "            <tr>\n",
       "                        <th id=\"T_23048_level0_row1\" class=\"row_heading level0 row1\" >t+1</th>\n",
       "                        <td id=\"T_23048_row1_col0\" class=\"data row1 col0\" >0.999109</td>\n",
       "                        <td id=\"T_23048_row1_col1\" class=\"data row1 col1\" >1.000000</td>\n",
       "                        <td id=\"T_23048_row1_col2\" class=\"data row1 col2\" >0.999112</td>\n",
       "                        <td id=\"T_23048_row1_col3\" class=\"data row1 col3\" >0.998721</td>\n",
       "                        <td id=\"T_23048_row1_col4\" class=\"data row1 col4\" >0.998173</td>\n",
       "                        <td id=\"T_23048_row1_col5\" class=\"data row1 col5\" >0.997591</td>\n",
       "                        <td id=\"T_23048_row1_col6\" class=\"data row1 col6\" >0.997073</td>\n",
       "                        <td id=\"T_23048_row1_col7\" class=\"data row1 col7\" >0.996558</td>\n",
       "                        <td id=\"T_23048_row1_col8\" class=\"data row1 col8\" >0.996255</td>\n",
       "                        <td id=\"T_23048_row1_col9\" class=\"data row1 col9\" >0.995703</td>\n",
       "                        <td id=\"T_23048_row1_col10\" class=\"data row1 col10\" >0.995403</td>\n",
       "                        <td id=\"T_23048_row1_col11\" class=\"data row1 col11\" >0.994811</td>\n",
       "                        <td id=\"T_23048_row1_col12\" class=\"data row1 col12\" >0.994404</td>\n",
       "                        <td id=\"T_23048_row1_col13\" class=\"data row1 col13\" >0.993975</td>\n",
       "                        <td id=\"T_23048_row1_col14\" class=\"data row1 col14\" >0.993512</td>\n",
       "                        <td id=\"T_23048_row1_col15\" class=\"data row1 col15\" >0.993241</td>\n",
       "            </tr>\n",
       "            <tr>\n",
       "                        <th id=\"T_23048_level0_row2\" class=\"row_heading level0 row2\" >t+2</th>\n",
       "                        <td id=\"T_23048_row2_col0\" class=\"data row2 col0\" >0.998717</td>\n",
       "                        <td id=\"T_23048_row2_col1\" class=\"data row2 col1\" >0.999112</td>\n",
       "                        <td id=\"T_23048_row2_col2\" class=\"data row2 col2\" >1.000000</td>\n",
       "                        <td id=\"T_23048_row2_col3\" class=\"data row2 col3\" >0.999115</td>\n",
       "                        <td id=\"T_23048_row2_col4\" class=\"data row2 col4\" >0.998725</td>\n",
       "                        <td id=\"T_23048_row2_col5\" class=\"data row2 col5\" >0.998180</td>\n",
       "                        <td id=\"T_23048_row2_col6\" class=\"data row2 col6\" >0.997595</td>\n",
       "                        <td id=\"T_23048_row2_col7\" class=\"data row2 col7\" >0.997078</td>\n",
       "                        <td id=\"T_23048_row2_col8\" class=\"data row2 col8\" >0.996570</td>\n",
       "                        <td id=\"T_23048_row2_col9\" class=\"data row2 col9\" >0.996269</td>\n",
       "                        <td id=\"T_23048_row2_col10\" class=\"data row2 col10\" >0.995718</td>\n",
       "                        <td id=\"T_23048_row2_col11\" class=\"data row2 col11\" >0.995415</td>\n",
       "                        <td id=\"T_23048_row2_col12\" class=\"data row2 col12\" >0.994829</td>\n",
       "                        <td id=\"T_23048_row2_col13\" class=\"data row2 col13\" >0.994422</td>\n",
       "                        <td id=\"T_23048_row2_col14\" class=\"data row2 col14\" >0.993990</td>\n",
       "                        <td id=\"T_23048_row2_col15\" class=\"data row2 col15\" >0.993534</td>\n",
       "            </tr>\n",
       "            <tr>\n",
       "                        <th id=\"T_23048_level0_row3\" class=\"row_heading level0 row3\" >t+3</th>\n",
       "                        <td id=\"T_23048_row3_col0\" class=\"data row3 col0\" >0.998167</td>\n",
       "                        <td id=\"T_23048_row3_col1\" class=\"data row3 col1\" >0.998721</td>\n",
       "                        <td id=\"T_23048_row3_col2\" class=\"data row3 col2\" >0.999115</td>\n",
       "                        <td id=\"T_23048_row3_col3\" class=\"data row3 col3\" >1.000000</td>\n",
       "                        <td id=\"T_23048_row3_col4\" class=\"data row3 col4\" >0.999117</td>\n",
       "                        <td id=\"T_23048_row3_col5\" class=\"data row3 col5\" >0.998729</td>\n",
       "                        <td id=\"T_23048_row3_col6\" class=\"data row3 col6\" >0.998183</td>\n",
       "                        <td id=\"T_23048_row3_col7\" class=\"data row3 col7\" >0.997600</td>\n",
       "                        <td id=\"T_23048_row3_col8\" class=\"data row3 col8\" >0.997089</td>\n",
       "                        <td id=\"T_23048_row3_col9\" class=\"data row3 col9\" >0.996582</td>\n",
       "                        <td id=\"T_23048_row3_col10\" class=\"data row3 col10\" >0.996281</td>\n",
       "                        <td id=\"T_23048_row3_col11\" class=\"data row3 col11\" >0.995730</td>\n",
       "                        <td id=\"T_23048_row3_col12\" class=\"data row3 col12\" >0.995431</td>\n",
       "                        <td id=\"T_23048_row3_col13\" class=\"data row3 col13\" >0.994846</td>\n",
       "                        <td id=\"T_23048_row3_col14\" class=\"data row3 col14\" >0.994437</td>\n",
       "                        <td id=\"T_23048_row3_col15\" class=\"data row3 col15\" >0.994010</td>\n",
       "            </tr>\n",
       "            <tr>\n",
       "                        <th id=\"T_23048_level0_row4\" class=\"row_heading level0 row4\" >t+4</th>\n",
       "                        <td id=\"T_23048_row4_col0\" class=\"data row4 col0\" >0.997583</td>\n",
       "                        <td id=\"T_23048_row4_col1\" class=\"data row4 col1\" >0.998173</td>\n",
       "                        <td id=\"T_23048_row4_col2\" class=\"data row4 col2\" >0.998725</td>\n",
       "                        <td id=\"T_23048_row4_col3\" class=\"data row4 col3\" >0.999117</td>\n",
       "                        <td id=\"T_23048_row4_col4\" class=\"data row4 col4\" >1.000000</td>\n",
       "                        <td id=\"T_23048_row4_col5\" class=\"data row4 col5\" >0.999121</td>\n",
       "                        <td id=\"T_23048_row4_col6\" class=\"data row4 col6\" >0.998728</td>\n",
       "                        <td id=\"T_23048_row4_col7\" class=\"data row4 col7\" >0.998183</td>\n",
       "                        <td id=\"T_23048_row4_col8\" class=\"data row4 col8\" >0.997608</td>\n",
       "                        <td id=\"T_23048_row4_col9\" class=\"data row4 col9\" >0.997099</td>\n",
       "                        <td id=\"T_23048_row4_col10\" class=\"data row4 col10\" >0.996592</td>\n",
       "                        <td id=\"T_23048_row4_col11\" class=\"data row4 col11\" >0.996289</td>\n",
       "                        <td id=\"T_23048_row4_col12\" class=\"data row4 col12\" >0.995744</td>\n",
       "                        <td id=\"T_23048_row4_col13\" class=\"data row4 col13\" >0.995444</td>\n",
       "                        <td id=\"T_23048_row4_col14\" class=\"data row4 col14\" >0.994856</td>\n",
       "                        <td id=\"T_23048_row4_col15\" class=\"data row4 col15\" >0.994454</td>\n",
       "            </tr>\n",
       "            <tr>\n",
       "                        <th id=\"T_23048_level0_row5\" class=\"row_heading level0 row5\" >t+5</th>\n",
       "                        <td id=\"T_23048_row5_col0\" class=\"data row5 col0\" >0.997070</td>\n",
       "                        <td id=\"T_23048_row5_col1\" class=\"data row5 col1\" >0.997591</td>\n",
       "                        <td id=\"T_23048_row5_col2\" class=\"data row5 col2\" >0.998180</td>\n",
       "                        <td id=\"T_23048_row5_col3\" class=\"data row5 col3\" >0.998729</td>\n",
       "                        <td id=\"T_23048_row5_col4\" class=\"data row5 col4\" >0.999121</td>\n",
       "                        <td id=\"T_23048_row5_col5\" class=\"data row5 col5\" >1.000000</td>\n",
       "                        <td id=\"T_23048_row5_col6\" class=\"data row5 col6\" >0.999119</td>\n",
       "                        <td id=\"T_23048_row5_col7\" class=\"data row5 col7\" >0.998726</td>\n",
       "                        <td id=\"T_23048_row5_col8\" class=\"data row5 col8\" >0.998189</td>\n",
       "                        <td id=\"T_23048_row5_col9\" class=\"data row5 col9\" >0.997617</td>\n",
       "                        <td id=\"T_23048_row5_col10\" class=\"data row5 col10\" >0.997108</td>\n",
       "                        <td id=\"T_23048_row5_col11\" class=\"data row5 col11\" >0.996600</td>\n",
       "                        <td id=\"T_23048_row5_col12\" class=\"data row5 col12\" >0.996301</td>\n",
       "                        <td id=\"T_23048_row5_col13\" class=\"data row5 col13\" >0.995757</td>\n",
       "                        <td id=\"T_23048_row5_col14\" class=\"data row5 col14\" >0.995453</td>\n",
       "                        <td id=\"T_23048_row5_col15\" class=\"data row5 col15\" >0.994872</td>\n",
       "            </tr>\n",
       "            <tr>\n",
       "                        <th id=\"T_23048_level0_row6\" class=\"row_heading level0 row6\" >t+6</th>\n",
       "                        <td id=\"T_23048_row6_col0\" class=\"data row6 col0\" >0.996554</td>\n",
       "                        <td id=\"T_23048_row6_col1\" class=\"data row6 col1\" >0.997073</td>\n",
       "                        <td id=\"T_23048_row6_col2\" class=\"data row6 col2\" >0.997595</td>\n",
       "                        <td id=\"T_23048_row6_col3\" class=\"data row6 col3\" >0.998183</td>\n",
       "                        <td id=\"T_23048_row6_col4\" class=\"data row6 col4\" >0.998728</td>\n",
       "                        <td id=\"T_23048_row6_col5\" class=\"data row6 col5\" >0.999119</td>\n",
       "                        <td id=\"T_23048_row6_col6\" class=\"data row6 col6\" >1.000000</td>\n",
       "                        <td id=\"T_23048_row6_col7\" class=\"data row6 col7\" >0.999122</td>\n",
       "                        <td id=\"T_23048_row6_col8\" class=\"data row6 col8\" >0.998728</td>\n",
       "                        <td id=\"T_23048_row6_col9\" class=\"data row6 col9\" >0.998191</td>\n",
       "                        <td id=\"T_23048_row6_col10\" class=\"data row6 col10\" >0.997623</td>\n",
       "                        <td id=\"T_23048_row6_col11\" class=\"data row6 col11\" >0.997118</td>\n",
       "                        <td id=\"T_23048_row6_col12\" class=\"data row6 col12\" >0.996610</td>\n",
       "                        <td id=\"T_23048_row6_col13\" class=\"data row6 col13\" >0.996313</td>\n",
       "                        <td id=\"T_23048_row6_col14\" class=\"data row6 col14\" >0.995771</td>\n",
       "                        <td id=\"T_23048_row6_col15\" class=\"data row6 col15\" >0.995468</td>\n",
       "            </tr>\n",
       "            <tr>\n",
       "                        <th id=\"T_23048_level0_row7\" class=\"row_heading level0 row7\" >t+7</th>\n",
       "                        <td id=\"T_23048_row7_col0\" class=\"data row7 col0\" >0.996243</td>\n",
       "                        <td id=\"T_23048_row7_col1\" class=\"data row7 col1\" >0.996558</td>\n",
       "                        <td id=\"T_23048_row7_col2\" class=\"data row7 col2\" >0.997078</td>\n",
       "                        <td id=\"T_23048_row7_col3\" class=\"data row7 col3\" >0.997600</td>\n",
       "                        <td id=\"T_23048_row7_col4\" class=\"data row7 col4\" >0.998183</td>\n",
       "                        <td id=\"T_23048_row7_col5\" class=\"data row7 col5\" >0.998726</td>\n",
       "                        <td id=\"T_23048_row7_col6\" class=\"data row7 col6\" >0.999122</td>\n",
       "                        <td id=\"T_23048_row7_col7\" class=\"data row7 col7\" >1.000000</td>\n",
       "                        <td id=\"T_23048_row7_col8\" class=\"data row7 col8\" >0.999122</td>\n",
       "                        <td id=\"T_23048_row7_col9\" class=\"data row7 col9\" >0.998728</td>\n",
       "                        <td id=\"T_23048_row7_col10\" class=\"data row7 col10\" >0.998195</td>\n",
       "                        <td id=\"T_23048_row7_col11\" class=\"data row7 col11\" >0.997631</td>\n",
       "                        <td id=\"T_23048_row7_col12\" class=\"data row7 col12\" >0.997125</td>\n",
       "                        <td id=\"T_23048_row7_col13\" class=\"data row7 col13\" >0.996620</td>\n",
       "                        <td id=\"T_23048_row7_col14\" class=\"data row7 col14\" >0.996325</td>\n",
       "                        <td id=\"T_23048_row7_col15\" class=\"data row7 col15\" >0.995784</td>\n",
       "            </tr>\n",
       "            <tr>\n",
       "                        <th id=\"T_23048_level0_row8\" class=\"row_heading level0 row8\" >t+8</th>\n",
       "                        <td id=\"T_23048_row8_col0\" class=\"data row8 col0\" >0.995688</td>\n",
       "                        <td id=\"T_23048_row8_col1\" class=\"data row8 col1\" >0.996255</td>\n",
       "                        <td id=\"T_23048_row8_col2\" class=\"data row8 col2\" >0.996570</td>\n",
       "                        <td id=\"T_23048_row8_col3\" class=\"data row8 col3\" >0.997089</td>\n",
       "                        <td id=\"T_23048_row8_col4\" class=\"data row8 col4\" >0.997608</td>\n",
       "                        <td id=\"T_23048_row8_col5\" class=\"data row8 col5\" >0.998189</td>\n",
       "                        <td id=\"T_23048_row8_col6\" class=\"data row8 col6\" >0.998728</td>\n",
       "                        <td id=\"T_23048_row8_col7\" class=\"data row8 col7\" >0.999122</td>\n",
       "                        <td id=\"T_23048_row8_col8\" class=\"data row8 col8\" >1.000000</td>\n",
       "                        <td id=\"T_23048_row8_col9\" class=\"data row8 col9\" >0.999125</td>\n",
       "                        <td id=\"T_23048_row8_col10\" class=\"data row8 col10\" >0.998732</td>\n",
       "                        <td id=\"T_23048_row8_col11\" class=\"data row8 col11\" >0.998199</td>\n",
       "                        <td id=\"T_23048_row8_col12\" class=\"data row8 col12\" >0.997639</td>\n",
       "                        <td id=\"T_23048_row8_col13\" class=\"data row8 col13\" >0.997135</td>\n",
       "                        <td id=\"T_23048_row8_col14\" class=\"data row8 col14\" >0.996628</td>\n",
       "                        <td id=\"T_23048_row8_col15\" class=\"data row8 col15\" >0.996337</td>\n",
       "            </tr>\n",
       "            <tr>\n",
       "                        <th id=\"T_23048_level0_row9\" class=\"row_heading level0 row9\" >t+9</th>\n",
       "                        <td id=\"T_23048_row9_col0\" class=\"data row9 col0\" >0.995388</td>\n",
       "                        <td id=\"T_23048_row9_col1\" class=\"data row9 col1\" >0.995703</td>\n",
       "                        <td id=\"T_23048_row9_col2\" class=\"data row9 col2\" >0.996269</td>\n",
       "                        <td id=\"T_23048_row9_col3\" class=\"data row9 col3\" >0.996582</td>\n",
       "                        <td id=\"T_23048_row9_col4\" class=\"data row9 col4\" >0.997099</td>\n",
       "                        <td id=\"T_23048_row9_col5\" class=\"data row9 col5\" >0.997617</td>\n",
       "                        <td id=\"T_23048_row9_col6\" class=\"data row9 col6\" >0.998191</td>\n",
       "                        <td id=\"T_23048_row9_col7\" class=\"data row9 col7\" >0.998728</td>\n",
       "                        <td id=\"T_23048_row9_col8\" class=\"data row9 col8\" >0.999125</td>\n",
       "                        <td id=\"T_23048_row9_col9\" class=\"data row9 col9\" >1.000000</td>\n",
       "                        <td id=\"T_23048_row9_col10\" class=\"data row9 col10\" >0.999127</td>\n",
       "                        <td id=\"T_23048_row9_col11\" class=\"data row9 col11\" >0.998733</td>\n",
       "                        <td id=\"T_23048_row9_col12\" class=\"data row9 col12\" >0.998205</td>\n",
       "                        <td id=\"T_23048_row9_col13\" class=\"data row9 col13\" >0.997646</td>\n",
       "                        <td id=\"T_23048_row9_col14\" class=\"data row9 col14\" >0.997139</td>\n",
       "                        <td id=\"T_23048_row9_col15\" class=\"data row9 col15\" >0.996638</td>\n",
       "            </tr>\n",
       "            <tr>\n",
       "                        <th id=\"T_23048_level0_row10\" class=\"row_heading level0 row10\" >t+10</th>\n",
       "                        <td id=\"T_23048_row10_col0\" class=\"data row10 col0\" >0.994799</td>\n",
       "                        <td id=\"T_23048_row10_col1\" class=\"data row10 col1\" >0.995403</td>\n",
       "                        <td id=\"T_23048_row10_col2\" class=\"data row10 col2\" >0.995718</td>\n",
       "                        <td id=\"T_23048_row10_col3\" class=\"data row10 col3\" >0.996281</td>\n",
       "                        <td id=\"T_23048_row10_col4\" class=\"data row10 col4\" >0.996592</td>\n",
       "                        <td id=\"T_23048_row10_col5\" class=\"data row10 col5\" >0.997108</td>\n",
       "                        <td id=\"T_23048_row10_col6\" class=\"data row10 col6\" >0.997623</td>\n",
       "                        <td id=\"T_23048_row10_col7\" class=\"data row10 col7\" >0.998195</td>\n",
       "                        <td id=\"T_23048_row10_col8\" class=\"data row10 col8\" >0.998732</td>\n",
       "                        <td id=\"T_23048_row10_col9\" class=\"data row10 col9\" >0.999127</td>\n",
       "                        <td id=\"T_23048_row10_col10\" class=\"data row10 col10\" >1.000000</td>\n",
       "                        <td id=\"T_23048_row10_col11\" class=\"data row10 col11\" >0.999129</td>\n",
       "                        <td id=\"T_23048_row10_col12\" class=\"data row10 col12\" >0.998738</td>\n",
       "                        <td id=\"T_23048_row10_col13\" class=\"data row10 col13\" >0.998211</td>\n",
       "                        <td id=\"T_23048_row10_col14\" class=\"data row10 col14\" >0.997652</td>\n",
       "                        <td id=\"T_23048_row10_col15\" class=\"data row10 col15\" >0.997149</td>\n",
       "            </tr>\n",
       "            <tr>\n",
       "                        <th id=\"T_23048_level0_row11\" class=\"row_heading level0 row11\" >t+11</th>\n",
       "                        <td id=\"T_23048_row11_col0\" class=\"data row11 col0\" >0.994386</td>\n",
       "                        <td id=\"T_23048_row11_col1\" class=\"data row11 col1\" >0.994811</td>\n",
       "                        <td id=\"T_23048_row11_col2\" class=\"data row11 col2\" >0.995415</td>\n",
       "                        <td id=\"T_23048_row11_col3\" class=\"data row11 col3\" >0.995730</td>\n",
       "                        <td id=\"T_23048_row11_col4\" class=\"data row11 col4\" >0.996289</td>\n",
       "                        <td id=\"T_23048_row11_col5\" class=\"data row11 col5\" >0.996600</td>\n",
       "                        <td id=\"T_23048_row11_col6\" class=\"data row11 col6\" >0.997118</td>\n",
       "                        <td id=\"T_23048_row11_col7\" class=\"data row11 col7\" >0.997631</td>\n",
       "                        <td id=\"T_23048_row11_col8\" class=\"data row11 col8\" >0.998199</td>\n",
       "                        <td id=\"T_23048_row11_col9\" class=\"data row11 col9\" >0.998733</td>\n",
       "                        <td id=\"T_23048_row11_col10\" class=\"data row11 col10\" >0.999129</td>\n",
       "                        <td id=\"T_23048_row11_col11\" class=\"data row11 col11\" >1.000000</td>\n",
       "                        <td id=\"T_23048_row11_col12\" class=\"data row11 col12\" >0.999130</td>\n",
       "                        <td id=\"T_23048_row11_col13\" class=\"data row11 col13\" >0.998741</td>\n",
       "                        <td id=\"T_23048_row11_col14\" class=\"data row11 col14\" >0.998217</td>\n",
       "                        <td id=\"T_23048_row11_col15\" class=\"data row11 col15\" >0.997659</td>\n",
       "            </tr>\n",
       "            <tr>\n",
       "                        <th id=\"T_23048_level0_row12\" class=\"row_heading level0 row12\" >t+12</th>\n",
       "                        <td id=\"T_23048_row12_col0\" class=\"data row12 col0\" >0.993957</td>\n",
       "                        <td id=\"T_23048_row12_col1\" class=\"data row12 col1\" >0.994404</td>\n",
       "                        <td id=\"T_23048_row12_col2\" class=\"data row12 col2\" >0.994829</td>\n",
       "                        <td id=\"T_23048_row12_col3\" class=\"data row12 col3\" >0.995431</td>\n",
       "                        <td id=\"T_23048_row12_col4\" class=\"data row12 col4\" >0.995744</td>\n",
       "                        <td id=\"T_23048_row12_col5\" class=\"data row12 col5\" >0.996301</td>\n",
       "                        <td id=\"T_23048_row12_col6\" class=\"data row12 col6\" >0.996610</td>\n",
       "                        <td id=\"T_23048_row12_col7\" class=\"data row12 col7\" >0.997125</td>\n",
       "                        <td id=\"T_23048_row12_col8\" class=\"data row12 col8\" >0.997639</td>\n",
       "                        <td id=\"T_23048_row12_col9\" class=\"data row12 col9\" >0.998205</td>\n",
       "                        <td id=\"T_23048_row12_col10\" class=\"data row12 col10\" >0.998738</td>\n",
       "                        <td id=\"T_23048_row12_col11\" class=\"data row12 col11\" >0.999130</td>\n",
       "                        <td id=\"T_23048_row12_col12\" class=\"data row12 col12\" >1.000000</td>\n",
       "                        <td id=\"T_23048_row12_col13\" class=\"data row12 col13\" >0.999133</td>\n",
       "                        <td id=\"T_23048_row12_col14\" class=\"data row12 col14\" >0.998743</td>\n",
       "                        <td id=\"T_23048_row12_col15\" class=\"data row12 col15\" >0.998223</td>\n",
       "            </tr>\n",
       "            <tr>\n",
       "                        <th id=\"T_23048_level0_row13\" class=\"row_heading level0 row13\" >t+13</th>\n",
       "                        <td id=\"T_23048_row13_col0\" class=\"data row13 col0\" >0.993499</td>\n",
       "                        <td id=\"T_23048_row13_col1\" class=\"data row13 col1\" >0.993975</td>\n",
       "                        <td id=\"T_23048_row13_col2\" class=\"data row13 col2\" >0.994422</td>\n",
       "                        <td id=\"T_23048_row13_col3\" class=\"data row13 col3\" >0.994846</td>\n",
       "                        <td id=\"T_23048_row13_col4\" class=\"data row13 col4\" >0.995444</td>\n",
       "                        <td id=\"T_23048_row13_col5\" class=\"data row13 col5\" >0.995757</td>\n",
       "                        <td id=\"T_23048_row13_col6\" class=\"data row13 col6\" >0.996313</td>\n",
       "                        <td id=\"T_23048_row13_col7\" class=\"data row13 col7\" >0.996620</td>\n",
       "                        <td id=\"T_23048_row13_col8\" class=\"data row13 col8\" >0.997135</td>\n",
       "                        <td id=\"T_23048_row13_col9\" class=\"data row13 col9\" >0.997646</td>\n",
       "                        <td id=\"T_23048_row13_col10\" class=\"data row13 col10\" >0.998211</td>\n",
       "                        <td id=\"T_23048_row13_col11\" class=\"data row13 col11\" >0.998741</td>\n",
       "                        <td id=\"T_23048_row13_col12\" class=\"data row13 col12\" >0.999133</td>\n",
       "                        <td id=\"T_23048_row13_col13\" class=\"data row13 col13\" >1.000000</td>\n",
       "                        <td id=\"T_23048_row13_col14\" class=\"data row13 col14\" >0.999134</td>\n",
       "                        <td id=\"T_23048_row13_col15\" class=\"data row13 col15\" >0.998747</td>\n",
       "            </tr>\n",
       "            <tr>\n",
       "                        <th id=\"T_23048_level0_row14\" class=\"row_heading level0 row14\" >t+14</th>\n",
       "                        <td id=\"T_23048_row14_col0\" class=\"data row14 col0\" >0.993220</td>\n",
       "                        <td id=\"T_23048_row14_col1\" class=\"data row14 col1\" >0.993512</td>\n",
       "                        <td id=\"T_23048_row14_col2\" class=\"data row14 col2\" >0.993990</td>\n",
       "                        <td id=\"T_23048_row14_col3\" class=\"data row14 col3\" >0.994437</td>\n",
       "                        <td id=\"T_23048_row14_col4\" class=\"data row14 col4\" >0.994856</td>\n",
       "                        <td id=\"T_23048_row14_col5\" class=\"data row14 col5\" >0.995453</td>\n",
       "                        <td id=\"T_23048_row14_col6\" class=\"data row14 col6\" >0.995771</td>\n",
       "                        <td id=\"T_23048_row14_col7\" class=\"data row14 col7\" >0.996325</td>\n",
       "                        <td id=\"T_23048_row14_col8\" class=\"data row14 col8\" >0.996628</td>\n",
       "                        <td id=\"T_23048_row14_col9\" class=\"data row14 col9\" >0.997139</td>\n",
       "                        <td id=\"T_23048_row14_col10\" class=\"data row14 col10\" >0.997652</td>\n",
       "                        <td id=\"T_23048_row14_col11\" class=\"data row14 col11\" >0.998217</td>\n",
       "                        <td id=\"T_23048_row14_col12\" class=\"data row14 col12\" >0.998743</td>\n",
       "                        <td id=\"T_23048_row14_col13\" class=\"data row14 col13\" >0.999134</td>\n",
       "                        <td id=\"T_23048_row14_col14\" class=\"data row14 col14\" >1.000000</td>\n",
       "                        <td id=\"T_23048_row14_col15\" class=\"data row14 col15\" >0.999136</td>\n",
       "            </tr>\n",
       "            <tr>\n",
       "                        <th id=\"T_23048_level0_row15\" class=\"row_heading level0 row15\" >t+15</th>\n",
       "                        <td id=\"T_23048_row15_col0\" class=\"data row15 col0\" >0.992843</td>\n",
       "                        <td id=\"T_23048_row15_col1\" class=\"data row15 col1\" >0.993241</td>\n",
       "                        <td id=\"T_23048_row15_col2\" class=\"data row15 col2\" >0.993534</td>\n",
       "                        <td id=\"T_23048_row15_col3\" class=\"data row15 col3\" >0.994010</td>\n",
       "                        <td id=\"T_23048_row15_col4\" class=\"data row15 col4\" >0.994454</td>\n",
       "                        <td id=\"T_23048_row15_col5\" class=\"data row15 col5\" >0.994872</td>\n",
       "                        <td id=\"T_23048_row15_col6\" class=\"data row15 col6\" >0.995468</td>\n",
       "                        <td id=\"T_23048_row15_col7\" class=\"data row15 col7\" >0.995784</td>\n",
       "                        <td id=\"T_23048_row15_col8\" class=\"data row15 col8\" >0.996337</td>\n",
       "                        <td id=\"T_23048_row15_col9\" class=\"data row15 col9\" >0.996638</td>\n",
       "                        <td id=\"T_23048_row15_col10\" class=\"data row15 col10\" >0.997149</td>\n",
       "                        <td id=\"T_23048_row15_col11\" class=\"data row15 col11\" >0.997659</td>\n",
       "                        <td id=\"T_23048_row15_col12\" class=\"data row15 col12\" >0.998223</td>\n",
       "                        <td id=\"T_23048_row15_col13\" class=\"data row15 col13\" >0.998747</td>\n",
       "                        <td id=\"T_23048_row15_col14\" class=\"data row15 col14\" >0.999136</td>\n",
       "                        <td id=\"T_23048_row15_col15\" class=\"data row15 col15\" >1.000000</td>\n",
       "            </tr>\n",
       "    </tbody></table>"
      ],
      "text/plain": [
       "<pandas.io.formats.style.Styler at 0x23e15c552b0>"
      ]
     },
     "execution_count": 13,
     "metadata": {},
     "output_type": "execute_result"
    }
   ],
   "source": [
    "# Extract the closing prices of Microsoft stock\n",
    "prices = pd.DataFrame(df['Close'].values)\n",
    "\n",
    "# Shift the prices\n",
    "acf_df = pd.concat([prices.shift(15), prices.shift(14), prices.shift(13), prices.shift(12),\n",
    "                    prices.shift(11), prices.shift(10), prices.shift(9), prices.shift(8),\n",
    "                    prices.shift(7), prices.shift(6), prices.shift(5), prices.shift(4),\n",
    "                   prices.shift(3), prices.shift(2), prices.shift(1), prices], axis=1)\n",
    "\n",
    "# Assign column names\n",
    "acf_df.columns = ['t', 't+1', 't+2', 't+3', \n",
    "                  't+4', 't+5', 't+6', 't+7',\n",
    "                  't+8', 't+9', 't+10', 't+11',\n",
    "                  't+12', 't+13', 't+14', 't+15']\n",
    "\n",
    "# Compute the correlation\n",
    "result = acf_df.corr(method='pearson')\n",
    "result.style.background_gradient(cmap='coolwarm')\n"
   ]
  },
  {
   "cell_type": "code",
   "execution_count": 14,
   "id": "f9e2c3c9",
   "metadata": {},
   "outputs": [
    {
     "data": {
      "image/png": "[encoded data removed]",
      "text/plain": [
       "<Figure size 432x288 with 1 Axes>"
      ]
     },
     "execution_count": 14,
     "metadata": {},
     "output_type": "execute_result"
    },
    {
     "data": {
      "image/png": "[encoded data removed]",
      "text/plain": [
       "<Figure size 432x288 with 1 Axes>"
      ]
     },
     "metadata": {},
     "output_type": "display_data"
    }
   ],
   "source": [
    "plot_acf(prices)"
   ]
  },
  {
   "cell_type": "markdown",
   "id": "930f7d58",
   "metadata": {},
   "source": [
    "The correlation matrix and autocorrelation plot both show a strong positive relationship between the price of stock on a given date and its most recent values. This relationship weakens the further away the data moves from that given point in time."
   ]
  },
  {
   "cell_type": "markdown",
   "id": "ef40c140",
   "metadata": {},
   "source": [
    "### Splitting Data for Training and Testing"
   ]
  },
  {
   "cell_type": "markdown",
   "id": "561d7701",
   "metadata": {},
   "source": [
    "The data will be split into training and testing sets to be used by the models for predicting the stock price.\n",
    "The training set will consist of the data before June 2020 and the testing set will consist of data as of June 2020 and beyond."
   ]
  },
  {
   "cell_type": "code",
   "execution_count": 15,
   "id": "f174ddd9",
   "metadata": {},
   "outputs": [
    {
     "data": {
      "image/png": "[encoded data removed]",
      "text/plain": [
       "<Figure size 432x288 with 1 Axes>"
      ]
     },
     "metadata": {},
     "output_type": "display_data"
    }
   ],
   "source": [
    "train = df[df.index < pd.to_datetime(\"2020-06-01\", format='%Y-%m-%d')]\n",
    "test = df[df.index >= pd.to_datetime(\"2020-06-01\", format='%Y-%m-%d')]\n",
    "\n",
    "plt.plot(train.index, train['Close'], color=\"blue\")\n",
    "plt.plot(test.index, test['Close'], color=\"green\")\n",
    "plt.ylabel('Price')\n",
    "plt.xlabel('Date')\n",
    "plt.xticks(rotation=45)\n",
    "plt.title(\"Train/Test split for Microsoft Stock\")\n",
    "plt.show()"
   ]
  },
  {
   "cell_type": "markdown",
   "id": "53d68caa",
   "metadata": {},
   "source": [
    "### Preventing Background Noise"
   ]
  },
  {
   "cell_type": "markdown",
   "id": "26037df3",
   "metadata": {},
   "source": [
    "When running the models on a time series, several warnings may appear that may affect the performance of the code. The following line will prevent these warnings from appearing and interfering with the execution of the models."
   ]
  },
  {
   "cell_type": "code",
   "execution_count": 16,
   "id": "b05f2ae0",
   "metadata": {},
   "outputs": [],
   "source": [
    "# This line of code will prevent background noise from hindering the running of the following procedures.\n",
    "warnings.filterwarnings(\"ignore\")"
   ]
  },
  {
   "cell_type": "markdown",
   "id": "6b90227c",
   "metadata": {},
   "source": [
    "### ARIMA Model"
   ]
  },
  {
   "cell_type": "markdown",
   "id": "41a66bd5",
   "metadata": {},
   "source": [
    "The ARIMA Model will be used to predict values without assuming stationality."
   ]
  },
  {
   "cell_type": "code",
   "execution_count": 17,
   "id": "be6991e6",
   "metadata": {},
   "outputs": [],
   "source": [
    "# Define the input\n",
    "y = train['Close']\n",
    "\n",
    "# Define the model\n",
    "ARIMAmodel = ARIMA(y, order = (2, 2, 2))\n",
    "\n",
    "# Fit the model\n",
    "ARIMAmodel = ARIMAmodel.fit()\n",
    "\n",
    "# Generate predictions\n",
    "y_pred = ARIMAmodel.get_forecast(len(test.index))\n",
    "y_pred_df = y_pred.conf_int(alpha = 0.05) #--Assigning a high alpha value to apply greater weight for recent values\n",
    "y_pred_df[\"Predictions\"] = ARIMAmodel.predict(start = y_pred_df.index[0], end = y_pred_df.index[-1])\n",
    "y_pred_df.index = test.index\n",
    "y_pred_out = y_pred_df[\"Predictions\"]"
   ]
  },
  {
   "cell_type": "markdown",
   "id": "0378e6a9",
   "metadata": {},
   "source": [
    "### SARIMA Model"
   ]
  },
  {
   "cell_type": "markdown",
   "id": "47cd9c8d",
   "metadata": {},
   "source": [
    "The SARIMA Model will be used to capture historical values, shock events, and seasonality."
   ]
  },
  {
   "cell_type": "code",
   "execution_count": 18,
   "id": "83e710d9",
   "metadata": {},
   "outputs": [],
   "source": [
    "# Define the input\n",
    "y = train['Close']\n",
    "\n",
    "# Define the model\n",
    "SARIMAXmodel = SARIMAX(y, order = (2, 2, 2), seasonal_order=(2,2,2,12))\n",
    "\n",
    "# Fit the model\n",
    "SARIMAXmodel = SARIMAXmodel.fit()\n",
    "\n",
    "# Generate predictions\n",
    "y_pred_2 = SARIMAXmodel.get_forecast(len(test.index))\n",
    "y_pred_df_2 = y_pred_2.conf_int(alpha = 0.05)\n",
    "y_pred_df_2[\"Predictions\"] = SARIMAXmodel.predict(start = y_pred_df_2.index[0], end = y_pred_df_2.index[-1])\n",
    "y_pred_df_2.index = test.index\n",
    "y_pred_out_2 = y_pred_df_2[\"Predictions\"]"
   ]
  },
  {
   "cell_type": "markdown",
   "id": "3b827c47",
   "metadata": {},
   "source": [
    "### Visualize the Results"
   ]
  },
  {
   "cell_type": "markdown",
   "id": "bd27c7bc",
   "metadata": {},
   "source": [
    "The results of the ARIMA and SARIMA models will be plotted below. Then, the Root Mean Squared Error of each model will be calculcated to estimate the accuracy of the predictions."
   ]
  },
  {
   "cell_type": "code",
   "execution_count": 19,
   "id": "07aba0c3",
   "metadata": {},
   "outputs": [
    {
     "name": "stdout",
     "output_type": "stream",
     "text": [
      "ARIMA RMSE:  19.58626536824896\n",
      "SARIMA RMSE:  11.393397710723283\n"
     ]
    },
    {
     "data": {
      "image/png": "[encoded data removed]",
      "text/plain": [
       "<Figure size 432x288 with 1 Axes>"
      ]
     },
     "metadata": {},
     "output_type": "display_data"
    }
   ],
   "source": [
    "plt.plot(train.index, train['Close'], color=\"blue\", label=\"Training\")\n",
    "plt.plot(test.index, test['Close'], color=\"green\", label=\"Testing\")\n",
    "plt.plot(y_pred_out, color=\"yellow\", label=\"ARIMA Predictions\")\n",
    "plt.plot(y_pred_out_2, color=\"red\", label=\"SARIMA Predictions\")\n",
    "plt.ylabel('Price')\n",
    "plt.xlabel('Date')\n",
    "plt.xticks(rotation=45)\n",
    "plt.title(\"Train/Test split for Microsoft Stock\")\n",
    "plt.legend()\n",
    "\n",
    "# Calculate the Root Mean Squared Error (RMSE) for each model\n",
    "arima_rmse = np.sqrt(mean_squared_error(test[\"Close\"].values, y_pred_df[\"Predictions\"]))\n",
    "print(\"ARIMA RMSE: \", arima_rmse)\n",
    "\n",
    "sarima_rmse = np.sqrt(mean_squared_error(test[\"Close\"].values, y_pred_df_2[\"Predictions\"]))\n",
    "print(\"SARIMA RMSE: \", sarima_rmse)"
   ]
  },
  {
   "cell_type": "markdown",
   "id": "08008583",
   "metadata": {},
   "source": [
    "The plot shows that the SARIMA model did a better job at predicting the future stock prices than the ARIMA model based on how close its graph is aligned to the increasing trend. The RMSE also confirms this with SARIMA having an RMSE score of ~11.39 and the ARIMA having an RMSE score of ~19.60.\n",
    "\n",
    "To improve the ARIMA model, the differencing parameter will be adjusted."
   ]
  },
  {
   "cell_type": "markdown",
   "id": "aecbeaf8",
   "metadata": {},
   "source": [
    "### Improving ARIMA"
   ]
  },
  {
   "cell_type": "code",
   "execution_count": 20,
   "id": "3a24a4c6",
   "metadata": {},
   "outputs": [
    {
     "name": "stdout",
     "output_type": "stream",
     "text": [
      "ARIMA RMSE:  10.949297322770152\n",
      "SARIMA RMSE:  11.393397710723283\n"
     ]
    },
    {
     "data": {
      "image/png": "[encoded data removed]",
      "text/plain": [
       "<Figure size 432x288 with 1 Axes>"
      ]
     },
     "metadata": {},
     "output_type": "display_data"
    }
   ],
   "source": [
    "# Define the input\n",
    "y = train['Close']\n",
    "\n",
    "# Define the model\n",
    "ARIMAmodel = ARIMA(y, order = (2, 3, 2)) #--The differencing parameter is increased by 1.\n",
    "\n",
    "# Fit the model\n",
    "ARIMAmodel = ARIMAmodel.fit()\n",
    "\n",
    "# Generate predictions\n",
    "y_pred = ARIMAmodel.get_forecast(len(test.index))\n",
    "y_pred_df = y_pred.conf_int(alpha = 0.05) #--Assigning a high alpha value to apply greater weight for recent values\n",
    "y_pred_df[\"Predictions\"] = ARIMAmodel.predict(start = y_pred_df.index[0], end = y_pred_df.index[-1])\n",
    "y_pred_df.index = test.index\n",
    "y_pred_out = y_pred_df[\"Predictions\"]\n",
    "\n",
    "# Visualize the results\n",
    "plt.plot(train.index, train['Close'], color=\"blue\", label=\"Training\")\n",
    "plt.plot(test.index, test['Close'], color=\"green\", label=\"Testing\")\n",
    "plt.plot(y_pred_out, color=\"yellow\", label=\"ARIMA Predictions\")\n",
    "plt.plot(y_pred_out_2, color=\"red\", label=\"SARIMA Predictions\")\n",
    "plt.ylabel('Price')\n",
    "plt.xlabel('Date')\n",
    "plt.xticks(rotation=45)\n",
    "plt.title(\"Train/Test split for Microsoft Stock\")\n",
    "plt.legend()\n",
    "\n",
    "# Calculate the Root Mean Squared Error (RMSE) for each model\n",
    "arima_rmse = np.sqrt(mean_squared_error(test[\"Close\"].values, y_pred_df[\"Predictions\"]))\n",
    "print(\"ARIMA RMSE: \", arima_rmse)\n",
    "\n",
    "sarima_rmse = np.sqrt(mean_squared_error(test[\"Close\"].values, y_pred_df_2[\"Predictions\"]))\n",
    "print(\"SARIMA RMSE: \", sarima_rmse)"
   ]
  },
  {
   "cell_type": "markdown",
   "id": "e9c03937",
   "metadata": {},
   "source": [
    "Changing the differencing parameter for the ARIMA model greatly improved its accuracy, to the point that it preformed slightly better than the SARIMA model. This is further evident in the RMSE score (~10.95 for ARIMA, ~11.40 for SARIMA)."
   ]
  },
  {
   "cell_type": "markdown",
   "id": "38452a97",
   "metadata": {},
   "source": [
    "### Changing the Split of Training and Testing Data"
   ]
  },
  {
   "cell_type": "markdown",
   "id": "84e779dd",
   "metadata": {},
   "source": [
    "The Training and Testing Data split will be changed to see if the models can be further improved. The training set will include closing stock prices prior to September 1, 2020 and the testing data will include closing stock prices from September 1, 2020 onward."
   ]
  },
  {
   "cell_type": "code",
   "execution_count": 21,
   "id": "0f064315",
   "metadata": {},
   "outputs": [
    {
     "data": {
      "image/png": "[encoded data removed]",
      "text/plain": [
       "<Figure size 432x288 with 1 Axes>"
      ]
     },
     "metadata": {},
     "output_type": "display_data"
    }
   ],
   "source": [
    "train = df[df.index < pd.to_datetime(\"2020-09-01\", format='%Y-%m-%d')]\n",
    "test = df[df.index >= pd.to_datetime(\"2020-09-01\", format='%Y-%m-%d')]\n",
    "\n",
    "plt.plot(train.index, train['Close'], color=\"blue\")\n",
    "plt.plot(test.index, test['Close'], color=\"green\")\n",
    "plt.ylabel('Price')\n",
    "plt.xlabel('Date')\n",
    "plt.xticks(rotation=45)\n",
    "plt.title(\"Train/Test split for Microsoft Stock\")\n",
    "plt.show()"
   ]
  },
  {
   "cell_type": "markdown",
   "id": "5c849347",
   "metadata": {},
   "source": [
    "### Applying ARIMA and SARIMA Models to new Training and Testing Data"
   ]
  },
  {
   "cell_type": "markdown",
   "id": "1cb518f9",
   "metadata": {},
   "source": [
    "Both ARIMA and SARIMA Models will be applied to the new Training and Testing Data."
   ]
  },
  {
   "cell_type": "markdown",
   "id": "5c318db1",
   "metadata": {},
   "source": [
    "#### ARIMA"
   ]
  },
  {
   "cell_type": "code",
   "execution_count": 22,
   "id": "d5b0ebaf",
   "metadata": {},
   "outputs": [],
   "source": [
    "# Define the input\n",
    "y = train['Close']\n",
    "\n",
    "# Define the model\n",
    "ARIMAmodel = ARIMA(y, order = (2, 2, 2)) #--Readjust the differencing parameter to what it was before.\n",
    "\n",
    "# Fit the model\n",
    "ARIMAmodel = ARIMAmodel.fit()\n",
    "\n",
    "# Generate predictions\n",
    "y_pred = ARIMAmodel.get_forecast(len(test.index))\n",
    "y_pred_df = y_pred.conf_int(alpha = 0.05) #--Assigning a high alpha value to apply greater weight for recent values\n",
    "y_pred_df[\"Predictions\"] = ARIMAmodel.predict(start = y_pred_df.index[0], end = y_pred_df.index[-1])\n",
    "y_pred_df.index = test.index\n",
    "y_pred_out = y_pred_df[\"Predictions\"]"
   ]
  },
  {
   "cell_type": "markdown",
   "id": "5f0d054d",
   "metadata": {},
   "source": [
    "#### SARIMA"
   ]
  },
  {
   "cell_type": "code",
   "execution_count": 23,
   "id": "2a43360f",
   "metadata": {},
   "outputs": [],
   "source": [
    "# Define the input\n",
    "y = train['Close']\n",
    "\n",
    "# Define the model (adjusted differencing parameters)\n",
    "SARIMAXmodel = SARIMAX(y, order = (2, 2, 2), seasonal_order=(2,2,2,12))\n",
    "\n",
    "# Fit the model\n",
    "SARIMAXmodel = SARIMAXmodel.fit()\n",
    "\n",
    "# Generate predictions\n",
    "y_pred_2 = SARIMAXmodel.get_forecast(len(test.index))\n",
    "y_pred_df_2 = y_pred_2.conf_int(alpha = 0.05)\n",
    "y_pred_df_2[\"Predictions\"] = SARIMAXmodel.predict(start = y_pred_df_2.index[0], end = y_pred_df_2.index[-1])\n",
    "y_pred_df_2.index = test.index\n",
    "y_pred_out_2 = y_pred_df_2[\"Predictions\"]"
   ]
  },
  {
   "cell_type": "markdown",
   "id": "0f929a30",
   "metadata": {},
   "source": [
    "#### Visualizations"
   ]
  },
  {
   "cell_type": "code",
   "execution_count": 24,
   "id": "cbfcc4c2",
   "metadata": {},
   "outputs": [
    {
     "name": "stdout",
     "output_type": "stream",
     "text": [
      "ARIMA RMSE:  27.87838918558446\n",
      "SARIMA RMSE:  35.500625729249855\n"
     ]
    },
    {
     "data": {
      "image/png": "[encoded data removed]",
      "text/plain": [
       "<Figure size 432x288 with 1 Axes>"
      ]
     },
     "metadata": {},
     "output_type": "display_data"
    }
   ],
   "source": [
    "plt.plot(train.index, train['Close'], color=\"blue\", label=\"Training\")\n",
    "plt.plot(test.index, test['Close'], color=\"green\", label=\"Testing\")\n",
    "plt.plot(y_pred_out, color=\"yellow\", label=\"ARIMA Predictions\")\n",
    "plt.plot(y_pred_out_2, color=\"red\", label=\"SARIMA Predictions\")\n",
    "plt.ylabel('Price')\n",
    "plt.xlabel('Date')\n",
    "plt.xticks(rotation=45)\n",
    "plt.title(\"Train/Test split for Microsoft Stock\")\n",
    "plt.legend()\n",
    "\n",
    "# Calculate the Root Mean Squared Error (RMSE) for each model\n",
    "arima_rmse = np.sqrt(mean_squared_error(test[\"Close\"].values, y_pred_df[\"Predictions\"]))\n",
    "print(\"ARIMA RMSE: \", arima_rmse)\n",
    "\n",
    "sarima_rmse = np.sqrt(mean_squared_error(test[\"Close\"].values, y_pred_df_2[\"Predictions\"]))\n",
    "print(\"SARIMA RMSE: \", sarima_rmse)"
   ]
  },
  {
   "cell_type": "markdown",
   "id": "7e03103e",
   "metadata": {},
   "source": [
    "When the dataset is split at the new date with the original parameters, the ARIMA and SARIMA models were less accurate in their predictions. However, this time the ARIMA Model seemed to perform better than the SARIMA model. A possible reason for the ARIMA performing better could be that there was less seasonality at that point in the trend and therefore, the SARIMA model overshot its predictions.\n",
    "\n",
    "The differencing parameters will be adjusted once again for both ARIMA and SARIMA in an attempt to improve the predictions."
   ]
  },
  {
   "cell_type": "markdown",
   "id": "53ee26b9",
   "metadata": {},
   "source": [
    "#### Improving ARIMA"
   ]
  },
  {
   "cell_type": "code",
   "execution_count": 25,
   "id": "53793bd9",
   "metadata": {},
   "outputs": [],
   "source": [
    "# Define the input\n",
    "y = train['Close']\n",
    "\n",
    "# Define the model\n",
    "ARIMAmodel = ARIMA(y, order = (2, 1, 2)) #--Decreasing the differencing parameter to 1.\n",
    "\n",
    "# Fit the model\n",
    "ARIMAmodel = ARIMAmodel.fit()\n",
    "\n",
    "# Generate predictions\n",
    "y_pred = ARIMAmodel.get_forecast(len(test.index))\n",
    "y_pred_df = y_pred.conf_int(alpha = 0.05) #--Assigning a high alpha value to apply greater weight for recent values\n",
    "y_pred_df[\"Predictions\"] = ARIMAmodel.predict(start = y_pred_df.index[0], end = y_pred_df.index[-1])\n",
    "y_pred_df.index = test.index\n",
    "y_pred_out = y_pred_df[\"Predictions\"]"
   ]
  },
  {
   "cell_type": "markdown",
   "id": "f369fec7",
   "metadata": {},
   "source": [
    "#### Improving SARIMA"
   ]
  },
  {
   "cell_type": "code",
   "execution_count": 26,
   "id": "ab5346d4",
   "metadata": {},
   "outputs": [],
   "source": [
    "# Define the input\n",
    "y = train['Close']\n",
    "\n",
    "# Define the model (adjusted differencing parameters)\n",
    "SARIMAXmodel = SARIMAX(y, order = (2, 1, 2), seasonal_order=(2,1,2,12))\n",
    "\n",
    "# Fit the model\n",
    "SARIMAXmodel = SARIMAXmodel.fit()\n",
    "\n",
    "# Generate predictions\n",
    "y_pred_2 = SARIMAXmodel.get_forecast(len(test.index))\n",
    "y_pred_df_2 = y_pred_2.conf_int(alpha = 0.05)\n",
    "y_pred_df_2[\"Predictions\"] = SARIMAXmodel.predict(start = y_pred_df_2.index[0], end = y_pred_df_2.index[-1])\n",
    "y_pred_df_2.index = test.index\n",
    "y_pred_out_2 = y_pred_df_2[\"Predictions\"]"
   ]
  },
  {
   "cell_type": "code",
   "execution_count": 27,
   "id": "5dff30c3",
   "metadata": {},
   "outputs": [
    {
     "name": "stdout",
     "output_type": "stream",
     "text": [
      "ARIMA RMSE:  13.119970016027949\n",
      "SARIMA RMSE:  25.903678647548595\n"
     ]
    },
    {
     "data": {
      "image/png": "[encoded data removed]",
      "text/plain": [
       "<Figure size 432x288 with 1 Axes>"
      ]
     },
     "metadata": {},
     "output_type": "display_data"
    }
   ],
   "source": [
    "plt.plot(train.index, train['Close'], color=\"blue\", label=\"Training\")\n",
    "plt.plot(test.index, test['Close'], color=\"green\", label=\"Testing\")\n",
    "plt.plot(y_pred_out, color=\"yellow\", label=\"ARIMA Predictions\")\n",
    "plt.plot(y_pred_out_2, color=\"red\", label=\"SARIMA Predictions\")\n",
    "plt.ylabel('Price')\n",
    "plt.xlabel('Date')\n",
    "plt.xticks(rotation=45)\n",
    "plt.title(\"Train/Test split for Microsoft Stock\")\n",
    "plt.legend()\n",
    "\n",
    "# Calculate the Root Mean Squared Error (RMSE) for each model\n",
    "arima_rmse = np.sqrt(mean_squared_error(test[\"Close\"].values, y_pred_df[\"Predictions\"]))\n",
    "print(\"ARIMA RMSE: \", arima_rmse)\n",
    "\n",
    "sarima_rmse = np.sqrt(mean_squared_error(test[\"Close\"].values, y_pred_df_2[\"Predictions\"]))\n",
    "print(\"SARIMA RMSE: \", sarima_rmse)"
   ]
  },
  {
   "cell_type": "markdown",
   "id": "e2d69e22",
   "metadata": {},
   "source": [
    "Even though the RMSE score suggests that the ARIMA model performed better than the SARIMA model, the plot appears to not be increasing or decreasing. The trend seems to be stagnant (or stationary). Meanwhile, the SARIMA model still trends upward and its RMSE score has shown improvement in its accuracy. This could mean that for this split, reducing the differencing for ARIMA was not necessary.\n",
    "\n",
    "The ARIMA models differencing parameter will be returned to its prior state while the SARIMA model is further experimented on."
   ]
  },
  {
   "cell_type": "code",
   "execution_count": 28,
   "id": "c8dbaa89",
   "metadata": {},
   "outputs": [],
   "source": [
    "# Define the input\n",
    "y = train['Close']\n",
    "\n",
    "# Define the model\n",
    "ARIMAmodel = ARIMA(y, order = (2, 2, 2)) #--Return the differencing parameter to its prior value\n",
    "\n",
    "# Fit the model\n",
    "ARIMAmodel = ARIMAmodel.fit()\n",
    "\n",
    "# Generate predictions\n",
    "y_pred = ARIMAmodel.get_forecast(len(test.index))\n",
    "y_pred_df = y_pred.conf_int(alpha = 0.05) #--Assigning a high alpha value to apply greater weight for recent values\n",
    "y_pred_df[\"Predictions\"] = ARIMAmodel.predict(start = y_pred_df.index[0], end = y_pred_df.index[-1])\n",
    "y_pred_df.index = test.index\n",
    "y_pred_out = y_pred_df[\"Predictions\"]"
   ]
  },
  {
   "cell_type": "markdown",
   "id": "2e8ecca2",
   "metadata": {},
   "source": [
    "To improve the SARIMA model, the differencing parameter will be set to zero, meaning that no differencing will be applied. The auto-regressive parameter will be set to 1 for both the non-seasonal and seasonal parameters. This will reduce the number of lag days that are considered for the model."
   ]
  },
  {
   "cell_type": "code",
   "execution_count": 29,
   "id": "29f62f81",
   "metadata": {},
   "outputs": [
    {
     "name": "stdout",
     "output_type": "stream",
     "text": [
      "ARIMA RMSE:  27.87838918558446\n",
      "SARIMA RMSE:  13.597387814323652\n"
     ]
    },
    {
     "data": {
      "image/png": "[encoded data removed]",
      "text/plain": [
       "<Figure size 432x288 with 1 Axes>"
      ]
     },
     "metadata": {},
     "output_type": "display_data"
    }
   ],
   "source": [
    "# Define the input\n",
    "y = train['Close']\n",
    "\n",
    "# Define the model (adjusted the auto-regressive parameter and dropped the differencing parameter to zero)\n",
    "SARIMAXmodel = SARIMAX(y, order = (1, 0, 2), seasonal_order=(1,0,2,12))\n",
    "\n",
    "# Fit the model\n",
    "SARIMAXmodel = SARIMAXmodel.fit()\n",
    "\n",
    "# Generate predictions\n",
    "y_pred_2 = SARIMAXmodel.get_forecast(len(test.index))\n",
    "y_pred_df_2 = y_pred_2.conf_int(alpha = 0.05)\n",
    "y_pred_df_2[\"Predictions\"] = SARIMAXmodel.predict(start = y_pred_df_2.index[0], end = y_pred_df_2.index[-1])\n",
    "y_pred_df_2.index = test.index\n",
    "y_pred_out_2 = y_pred_df_2[\"Predictions\"]\n",
    "\n",
    "# Plot both ARIMA and SARIMA models\n",
    "plt.plot(train.index, train['Close'], color=\"blue\", label=\"Training\")\n",
    "plt.plot(test.index, test['Close'], color=\"green\", label=\"Testing\")\n",
    "plt.plot(y_pred_out, color=\"yellow\", label=\"ARIMA Predictions\")\n",
    "plt.plot(y_pred_out_2, color=\"red\", label=\"SARIMA Predictions\")\n",
    "plt.ylabel('Price')\n",
    "plt.xlabel('Date')\n",
    "plt.xticks(rotation=45)\n",
    "plt.title(\"Train/Test split for Microsoft Stock\")\n",
    "plt.legend()\n",
    "\n",
    "# Calculate the Root Mean Squared Error (RMSE) for each model\n",
    "arima_rmse = np.sqrt(mean_squared_error(test[\"Close\"].values, y_pred_df[\"Predictions\"]))\n",
    "print(\"ARIMA RMSE: \", arima_rmse)\n",
    "\n",
    "sarima_rmse = np.sqrt(mean_squared_error(test[\"Close\"].values, y_pred_df_2[\"Predictions\"]))\n",
    "print(\"SARIMA RMSE: \", sarima_rmse)"
   ]
  },
  {
   "cell_type": "markdown",
   "id": "6a25ded8",
   "metadata": {},
   "source": [
    "Removing all differencing and reducing the number of lag days to 1 resulted in a lower RMSE score for the SARIMA model. However, like with ARIMA, the trend appears to be heading in a different direction than the actual testing data. This may be influenced by the drop in stock price at the start of the month."
   ]
  },
  {
   "cell_type": "markdown",
   "id": "c4044720",
   "metadata": {},
   "source": [
    "### Using Grid Search to evaluate an ARIMA Model"
   ]
  },
  {
   "cell_type": "markdown",
   "id": "96d1fc5c",
   "metadata": {},
   "source": [
    "To find the optimal parameters for the ARIMA Model, the Grid Search method can be applied that will operate on a set of different parameters, then evaluate the performance of each model to discover the best model."
   ]
  },
  {
   "cell_type": "code",
   "execution_count": 30,
   "id": "74591bfd",
   "metadata": {},
   "outputs": [],
   "source": [
    "### Define a function for evaluating the ARIMA Model\n",
    "def eval_ARIMA_model(Y, new_order):\n",
    "    # Define the model\n",
    "    ARIMAmodel_02 = ARIMA(Y, order=new_order) #--Dropping the differencing parameter once again.\n",
    "\n",
    "    # Fit the model\n",
    "    ARIMAmodel_02 = ARIMAmodel_02.fit()\n",
    "\n",
    "    # Generate predictions\n",
    "    Y_pred = ARIMAmodel_02.get_forecast(len(test.index))\n",
    "    Y_pred_df = y_pred.conf_int(alpha = 0.05) #--Assigning a high alpha value to apply greater weight for recent values\n",
    "    Y_pred_df[\"Predictions\"] = ARIMAmodel_02.predict(start = Y_pred_df.index[0], end = Y_pred_df.index[-1])\n",
    "    Y_pred_df.index = test.index\n",
    "    Y_pred_out = Y_pred_df[\"Predictions\"]\n",
    "    \n",
    "    # Calculate the Root Mean Squared Error (RMSE) for each model\n",
    "    arima_02_rmse = np.sqrt(mean_squared_error(test[\"Close\"].values, Y_pred_df[\"Predictions\"]))\n",
    "    return arima_02_rmse\n",
    "    "
   ]
  },
  {
   "cell_type": "code",
   "execution_count": 31,
   "id": "999eead7",
   "metadata": {},
   "outputs": [],
   "source": [
    "### Define a function for evaluating all configurations of the parameters to find the best model\n",
    "def eval_model(dataset, p_values, d_values, q_values):\n",
    "    best_score, best_cfg = float('inf'), None\n",
    "    for p in p_values:\n",
    "        for d in d_values:\n",
    "            for q in q_values:\n",
    "                a_order = (p,d,q)\n",
    "                try:\n",
    "                    rmse = eval_ARIMA_model(dataset, a_order)\n",
    "                    if rmse < best_score:\n",
    "                        best_score, best_cfg = rmse, a_order\n",
    "                    print('ARIMA%s RMSE=%.3f' % (a_order, rmse))\n",
    "                except:\n",
    "                    continue\n",
    "    print('Best ARIMA%s RMSE=%.3f' % (best_cfg, best_score))\n",
    "                    "
   ]
  },
  {
   "cell_type": "code",
   "execution_count": 32,
   "id": "4e72d2cf",
   "metadata": {},
   "outputs": [
    {
     "name": "stdout",
     "output_type": "stream",
     "text": [
      "ARIMA(0, 0, 0) RMSE=126.555\n",
      "ARIMA(0, 0, 1) RMSE=126.182\n",
      "ARIMA(0, 0, 2) RMSE=125.943\n",
      "ARIMA(0, 1, 0) RMSE=12.771\n",
      "ARIMA(0, 1, 1) RMSE=12.990\n",
      "ARIMA(0, 1, 2) RMSE=13.181\n",
      "ARIMA(0, 2, 0) RMSE=287.719\n",
      "ARIMA(0, 2, 1) RMSE=21.162\n",
      "ARIMA(0, 2, 2) RMSE=28.332\n",
      "ARIMA(1, 0, 0) RMSE=13.418\n",
      "ARIMA(1, 0, 1) RMSE=13.105\n",
      "ARIMA(1, 0, 2) RMSE=13.300\n",
      "ARIMA(1, 1, 0) RMSE=13.066\n",
      "ARIMA(1, 1, 1) RMSE=13.069\n",
      "ARIMA(1, 1, 2) RMSE=13.230\n",
      "ARIMA(1, 2, 0) RMSE=96.651\n",
      "ARIMA(1, 2, 1) RMSE=27.288\n",
      "ARIMA(1, 2, 2) RMSE=27.685\n",
      "ARIMA(2, 0, 0) RMSE=13.185\n",
      "ARIMA(2, 0, 1) RMSE=13.183\n",
      "ARIMA(2, 0, 2) RMSE=13.073\n",
      "ARIMA(2, 1, 0) RMSE=13.071\n",
      "ARIMA(2, 1, 1) RMSE=13.048\n",
      "ARIMA(2, 1, 2) RMSE=13.120\n",
      "ARIMA(2, 2, 0) RMSE=50.152\n",
      "ARIMA(2, 2, 1) RMSE=27.870\n",
      "ARIMA(2, 2, 2) RMSE=27.878\n",
      "Best ARIMA(0, 1, 0) RMSE=12.771\n"
     ]
    }
   ],
   "source": [
    "# Define a set of inputs for each parameter\n",
    "p_vals = range(0,3)\n",
    "d_vals = range(0,3)\n",
    "q_vals = range(0,3)\n",
    "\n",
    "# Submit the input and parameter sets to the ARIMA model for evaluation\n",
    "eval_model(y, p_vals, d_vals, q_vals)"
   ]
  },
  {
   "cell_type": "markdown",
   "id": "9141e9d3",
   "metadata": {},
   "source": [
    "Performing a grid search for the ARIMA model allows the discovery of what parameter values work well and what values do not. For example, when the differencing (d) parameter is set to 2 AND the moving average parameter (q) is set to 0, the method returns the high RMSE values, confirming that these configurations do not work for this dataset. Also, when only the moving average parameter is supplied a value, the model returns high RMSE values as well.\n",
    "\n",
    "After evaluating each configuration, the grid search returned the best ARIMA model for the dataset. In this case, the model with the parameters (0,1,0) and the best RMSE score."
   ]
  },
  {
   "cell_type": "markdown",
   "id": "9f707c7a",
   "metadata": {},
   "source": [
    "### Using Grid Search to evaluate a SARIMA model"
   ]
  },
  {
   "cell_type": "markdown",
   "id": "85e15eeb",
   "metadata": {},
   "source": [
    "The Grid Search method will now be applied to the SARIMA model."
   ]
  },
  {
   "cell_type": "code",
   "execution_count": 33,
   "id": "bfb969f0",
   "metadata": {},
   "outputs": [],
   "source": [
    "# Define a function for evaluating the SARIMA model\n",
    "def eval_SARIMA_model(Y, non_sn_order, sn_order):\n",
    "    # Define the model\n",
    "    SARIMAXmodel_02 = SARIMAX(Y, order = non_sn_order, seasonal_order = sn_order)\n",
    "\n",
    "    # Fit the model\n",
    "    SARIMAXmodel_02 = SARIMAXmodel_02.fit()\n",
    "\n",
    "    # Generate predictions\n",
    "    Y_pred_2 = SARIMAXmodel_02.get_forecast(len(test.index))\n",
    "    Y_pred_df_2 = Y_pred_2.conf_int(alpha = 0.05)\n",
    "    Y_pred_df_2[\"Predictions\"] = SARIMAXmodel_02.predict(start = Y_pred_df_2.index[0], end = Y_pred_df_2.index[-1])\n",
    "    Y_pred_df_2.index = test.index\n",
    "    Y_pred_out_2 = Y_pred_df_2[\"Predictions\"]\n",
    "    \n",
    "    # Calculate the Root Mean Squared Error (RMSE) for each model\n",
    "    sarima_02_rmse = np.sqrt(mean_squared_error(test[\"Close\"].values, Y_pred_df_2[\"Predictions\"]))\n",
    "    return sarima_02_rmse"
   ]
  },
  {
   "cell_type": "code",
   "execution_count": 34,
   "id": "9bf6e6b0",
   "metadata": {},
   "outputs": [],
   "source": [
    "### Define a function for evaluating all parameters to find the best SARIMA model\n",
    "def eval_all_SARIMA_models(dataset, p_values, d_values, q_values, P_values, D_values, Q_values, m_values):\n",
    "    best_score, best_cfg = float('inf'), None\n",
    "    for p in p_values:\n",
    "        for d in d_values:\n",
    "            for q in q_values:\n",
    "                for P in P_values:\n",
    "                    for D in D_values:\n",
    "                        for Q in Q_values:\n",
    "                            for m in m_values:\n",
    "                                s1_order = (p,d,q)\n",
    "                                s2_order = (P,D,Q,m)\n",
    "                                try:\n",
    "                                    rmse = eval_SARIMA_model(dataset, s1_order, s2_order)\n",
    "                                    if rmse < best_score:\n",
    "                                        best_score, best_cfg = rmse, (s1_order, s2_order)\n",
    "                                    print('SARIMA%s RMSE=%.3f' % ((s1_order, s2_order), rmse))\n",
    "                                except:\n",
    "                                    continue\n",
    "    print('Best SARIMA%s RMSE=%.3f' % (best_cfg, best_score))"
   ]
  },
  {
   "cell_type": "markdown",
   "id": "cd50e185",
   "metadata": {},
   "source": [
    "To save computational resources and time, the non-seasonal parameters will be those from the best ARIMA model (0,1,0). The grid search will be performed on the seasonal parameters only."
   ]
  },
  {
   "cell_type": "code",
   "execution_count": 35,
   "id": "626217fa",
   "metadata": {},
   "outputs": [
    {
     "name": "stdout",
     "output_type": "stream",
     "text": [
      "SARIMA((0, 1, 0), (0, 0, 0, 12)) RMSE=12.771\n",
      "SARIMA((0, 1, 0), (0, 0, 1, 12)) RMSE=13.263\n",
      "SARIMA((0, 1, 0), (0, 0, 2, 12)) RMSE=12.729\n",
      "SARIMA((0, 1, 0), (0, 1, 0, 12)) RMSE=117.520\n",
      "SARIMA((0, 1, 0), (0, 1, 1, 12)) RMSE=22.483\n",
      "SARIMA((0, 1, 0), (0, 1, 2, 12)) RMSE=22.128\n",
      "SARIMA((0, 1, 0), (0, 2, 0, 12)) RMSE=456.456\n",
      "SARIMA((0, 1, 0), (0, 2, 1, 12)) RMSE=121.999\n",
      "SARIMA((0, 1, 0), (0, 2, 2, 12)) RMSE=30.503\n",
      "SARIMA((0, 1, 0), (1, 0, 0, 12)) RMSE=13.228\n",
      "SARIMA((0, 1, 0), (1, 0, 1, 12)) RMSE=12.985\n",
      "SARIMA((0, 1, 0), (1, 0, 2, 12)) RMSE=12.732\n",
      "SARIMA((0, 1, 0), (1, 1, 0, 12)) RMSE=96.708\n",
      "SARIMA((0, 1, 0), (1, 1, 1, 12)) RMSE=22.191\n",
      "SARIMA((0, 1, 0), (1, 1, 2, 12)) RMSE=21.870\n",
      "SARIMA((0, 1, 0), (1, 2, 0, 12)) RMSE=605.417\n",
      "SARIMA((0, 1, 0), (1, 2, 1, 12)) RMSE=100.666\n",
      "SARIMA((0, 1, 0), (1, 2, 2, 12)) RMSE=30.522\n",
      "SARIMA((0, 1, 0), (2, 0, 0, 12)) RMSE=12.756\n",
      "SARIMA((0, 1, 0), (2, 0, 1, 12)) RMSE=12.751\n",
      "SARIMA((0, 1, 0), (2, 0, 2, 12)) RMSE=12.726\n",
      "SARIMA((0, 1, 0), (2, 1, 0, 12)) RMSE=56.982\n",
      "SARIMA((0, 1, 0), (2, 1, 1, 12)) RMSE=22.521\n",
      "SARIMA((0, 1, 0), (2, 1, 2, 12)) RMSE=25.563\n",
      "SARIMA((0, 1, 0), (2, 2, 0, 12)) RMSE=310.655\n",
      "SARIMA((0, 1, 0), (2, 2, 1, 12)) RMSE=59.767\n",
      "SARIMA((0, 1, 0), (2, 2, 2, 12)) RMSE=30.599\n",
      "Best SARIMA((0, 1, 0), (2, 0, 2, 12)) RMSE=12.726\n"
     ]
    }
   ],
   "source": [
    "# Non-seasonal parameters\n",
    "p_vals = range(0,1)\n",
    "d_vals = range(1,2)\n",
    "q_vals = range(0,1)\n",
    "\n",
    "# Seasonal parameters\n",
    "P_vals = range(0,3)\n",
    "D_vals = range(0,3)\n",
    "Q_vals = range(0,3)\n",
    "m_vals = range(12, 13)\n",
    "\n",
    "# Submit the input and parameter sets to the SARIMA model for evaluation\n",
    "eval_all_SARIMA_models(y,p_vals,d_vals,q_vals,P_vals,D_vals,Q_vals,m_vals)"
   ]
  },
  {
   "cell_type": "markdown",
   "id": "0c5cb59f",
   "metadata": {},
   "source": [
    "With the same non-seasonal parameters as the best ARIMA mode, the SARIMA model containing the seasonal parameters of (2,0,2,12) gave the best optimal performance with a RMSE of 12.726. Similar to the ARIMA model, increasing the differencing while having a zero moving average resulted in high RMSE values. Also, the best model did not include auto-regression."
   ]
  },
  {
   "cell_type": "markdown",
   "id": "a9145e14",
   "metadata": {},
   "source": [
    "### Plotting the best ARIMA and SARIMA models"
   ]
  },
  {
   "cell_type": "markdown",
   "id": "c4c8d86e",
   "metadata": {},
   "source": [
    "The results from both Grid Searches will be plotted by plugging in the parameters manually as it was performed before."
   ]
  },
  {
   "cell_type": "code",
   "execution_count": 36,
   "id": "a6426b98",
   "metadata": {},
   "outputs": [],
   "source": [
    "# Define the input\n",
    "y = train['Close']\n",
    "\n",
    "# Define the model\n",
    "ARIMAmodel = ARIMA(y, order = (0, 1, 0)) #--Dropping the differencing parameter once again.\n",
    "\n",
    "# Fit the model\n",
    "ARIMAmodel = ARIMAmodel.fit()\n",
    "\n",
    "# Generate predictions\n",
    "y_pred = ARIMAmodel.get_forecast(len(test.index))\n",
    "y_pred_df = y_pred.conf_int(alpha = 0.05) #--Assigning a high alpha value to apply greater weight for recent values\n",
    "y_pred_df[\"Predictions\"] = ARIMAmodel.predict(start = y_pred_df.index[0], end = y_pred_df.index[-1])\n",
    "y_pred_df.index = test.index\n",
    "y_pred_out = y_pred_df[\"Predictions\"]"
   ]
  },
  {
   "cell_type": "code",
   "execution_count": 37,
   "id": "9257f233",
   "metadata": {},
   "outputs": [
    {
     "name": "stdout",
     "output_type": "stream",
     "text": [
      "ARIMA RMSE:  12.771449054782472\n",
      "SARIMA RMSE:  12.726200633792875\n"
     ]
    },
    {
     "data": {
      "image/png": "[encoded data removed]",
      "text/plain": [
       "<Figure size 432x288 with 1 Axes>"
      ]
     },
     "metadata": {},
     "output_type": "display_data"
    }
   ],
   "source": [
    "# Define the model\n",
    "SARIMAXmodel = SARIMAX(y, order = (0, 1, 0), seasonal_order=(2,0,2,12))\n",
    "\n",
    "# Fit the model\n",
    "SARIMAXmodel = SARIMAXmodel.fit()\n",
    "\n",
    "# Generate predictions\n",
    "y_pred_2 = SARIMAXmodel.get_forecast(len(test.index))\n",
    "y_pred_df_2 = y_pred_2.conf_int(alpha = 0.05)\n",
    "y_pred_df_2[\"Predictions\"] = SARIMAXmodel.predict(start = y_pred_df_2.index[0], end = y_pred_df_2.index[-1])\n",
    "y_pred_df_2.index = test.index\n",
    "y_pred_out_2 = y_pred_df_2[\"Predictions\"]\n",
    "\n",
    "# Plot both ARIMA and SARIMA models\n",
    "plt.plot(train.index, train['Close'], color=\"blue\", label=\"Training\")\n",
    "plt.plot(test.index, test['Close'], color=\"green\", label=\"Testing\")\n",
    "plt.plot(y_pred_out, color=\"yellow\", label=\"ARIMA Predictions\")\n",
    "plt.plot(y_pred_out_2, color=\"red\", label=\"SARIMA Predictions\")\n",
    "plt.ylabel('Price')\n",
    "plt.xlabel('Date')\n",
    "plt.xticks(rotation=45)\n",
    "plt.title(\"Train/Test split for Microsoft Stock\")\n",
    "plt.legend()\n",
    "\n",
    "# Calculate the Root Mean Squared Error (RMSE) for each model\n",
    "arima_rmse = np.sqrt(mean_squared_error(test[\"Close\"].values, y_pred_df[\"Predictions\"]))\n",
    "print(\"ARIMA RMSE: \", arima_rmse)\n",
    "\n",
    "sarima_rmse = np.sqrt(mean_squared_error(test[\"Close\"].values, y_pred_df_2[\"Predictions\"]))\n",
    "print(\"SARIMA RMSE: \", sarima_rmse)"
   ]
  },
  {
   "cell_type": "markdown",
   "id": "fa6c7718",
   "metadata": {},
   "source": [
    "The plot shows that when the SARIMA model is given the same non-seasonal parameters as the best ARIMA model to find the best SARIMA model from a evaluation of different configuration of its seasonal parameters, the result is a similar performance when it comes to predicting the future stock price for Microsoft. A better analysis could have been provided if the functions for performing the grid search on SARIMA were able to evaluate the results of various non-seasonal parameters. This, however, would require an extensive amount of resources due to the number of computations to perform such an evaluation. Regardless, this demonstrates how a Grid Search can be an effective method for finding the optimal parameters that can provide the best model when forecasting a time series."
   ]
  },
  {
   "cell_type": "code",
   "execution_count": null,
   "id": "1b582c8d",
   "metadata": {},
   "outputs": [],
   "source": []
  }
 ],
 "metadata": {
  "kernelspec": {
   "display_name": "Python 3",
   "language": "python",
   "name": "python3"
  },
  "language_info": {
   "codemirror_mode": {
    "name": "ipython",
    "version": 3
   },
   "file_extension": ".py",
   "mimetype": "text/x-python",
   "name": "python",
   "nbconvert_exporter": "python",
   "pygments_lexer": "ipython3",
   "version": "3.8.8"
  }
 },
 "nbformat": 4,
 "nbformat_minor": 5
}
